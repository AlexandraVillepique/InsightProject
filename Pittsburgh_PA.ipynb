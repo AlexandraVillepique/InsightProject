{
 "cells": [
  {
   "cell_type": "markdown",
   "metadata": {},
   "source": [
    "#What is going on in just one city?\n",
    "\n",
    "\n",
    "So what is going on in Pittsburgh?"
   ]
  },
  {
   "cell_type": "code",
   "execution_count": 1,
   "metadata": {
    "collapsed": false
   },
   "outputs": [
    {
     "name": "stdout",
     "output_type": "stream",
     "text": [
      "Populating the interactive namespace from numpy and matplotlib\n"
     ]
    }
   ],
   "source": [
    "#general\n",
    "import numpy as np\n",
    "import scipy\n",
    "from matplotlib import pyplot as plt\n",
    "%pylab inline\n",
    "import pandas as pd\n",
    "import MySQLdb\n",
    "import os\n",
    "import sys\n",
    "sys.setrecursionlimit(3000)"
   ]
  },
  {
   "cell_type": "code",
   "execution_count": 3,
   "metadata": {
    "collapsed": false
   },
   "outputs": [
    {
     "name": "stdout",
     "output_type": "stream",
     "text": [
      "data loaded\n"
     ]
    }
   ],
   "source": [
    "con=MySQLdb.connect(user=user, passwd=passwd, db=dbname, host=host)\n",
    "df2 = pd.read_sql(\"SELECT * FROM business WHERE state ='PA' \", con)\n",
    "print \"data loaded\""
   ]
  },
  {
   "cell_type": "code",
   "execution_count": 3,
   "metadata": {
    "collapsed": false
   },
   "outputs": [
    {
     "name": "stdout",
     "output_type": "stream",
     "text": [
      "428\n"
     ]
    }
   ],
   "source": [
    "print len(df2.categories.unique())"
   ]
  },
  {
   "cell_type": "markdown",
   "metadata": {},
   "source": [
    "##Location Quotient\n",
    "\n",
    "Location Quotient (LQ) is an indicator used in regional science and  planning to evaluate economic structure and specialty (Klosterman et. al., 1993). \"The LQ is a measure which compares the relative importance (in terms of output or employment) of an business category in a region to its relative importance in the observed domain (Jensen, et. al., 1979)\", so as to evaluate the deviation of region's business categories structure from that of the observed domain. A region showing greater than 1 of LQ for business category j is believed to be producing more than its share of  domain output in this business category j, and thus is defined as specialized in business category j."
   ]
  },
  {
   "cell_type": "markdown",
   "metadata": {},
   "source": [
    "$$LQ_{ij}=\\frac{\\frac{E_{ij}}{E_i}}{\\frac{\\sum_i E_{ij}}{\\sum_i E_i}}$$\n",
    "Where   \n",
    "$E_{ij}$ is economic activity in subarea i, department j  \n",
    "$E_i$ is total economic activity in subarea i   \n",
    "$\\sum_i E_{ij}$ is economic activity of department j in the whole area    \n",
    "$\\sum_i E_i$ is total economic activity in the whole area"
   ]
  },
  {
   "cell_type": "markdown",
   "metadata": {},
   "source": [
    "In this analysis subarea is cluster, department is chosen business category, and the whole area is Phoenix. <br>\n",
    "So let us start forming LQ."
   ]
  },
  {
   "cell_type": "code",
   "execution_count": 4,
   "metadata": {
    "collapsed": false
   },
   "outputs": [],
   "source": [
    "EI_Ph = df2.review_count.sum()\n",
    "lala = df2.groupby('categories').sum()\n",
    "EI = lala.review_count\n",
    "E_div = EI/EI_Ph"
   ]
  },
  {
   "cell_type": "markdown",
   "metadata": {},
   "source": [
    "And, the denominator is done. "
   ]
  },
  {
   "cell_type": "markdown",
   "metadata": {},
   "source": [
    "To complete the rest of the variable, first the clusters need to be determined."
   ]
  },
  {
   "cell_type": "code",
   "execution_count": 5,
   "metadata": {
    "collapsed": false
   },
   "outputs": [],
   "source": [
    "from sklearn.cluster import DBSCAN\n",
    "from geopy.distance import great_circle\n",
    "coordinates = df2.as_matrix(columns=['longitude', 'latitude'])"
   ]
  },
  {
   "cell_type": "markdown",
   "metadata": {},
   "source": [
    "For Pittsburgh, I had to change max distance. If you look below to the distribution of the business in this city, you'll notice they have entirely different distribution than in Phoenix. Here business tend to follow more public transport, and apparently people in Pittsburgh walk more than people in Phoenix. Thus, walking distance between business have more sense here than in Phoenix. "
   ]
  },
  {
   "cell_type": "code",
   "execution_count": 17,
   "metadata": {
    "collapsed": false
   },
   "outputs": [
    {
     "name": "stdout",
     "output_type": "stream",
     "text": [
      "Number of clusters: 271\n"
     ]
    }
   ],
   "source": [
    "db = DBSCAN(eps=.003, min_samples=2).fit(coordinates)\n",
    "labels = db.labels_\n",
    "num_clusters = len(set(labels)) - (1 if -1 in labels else 0)\n",
    "clusters = pd.Series([coordinates[labels == i] for i in xrange(num_clusters)])\n",
    "print('Number of clusters: %d' % num_clusters)"
   ]
  },
  {
   "cell_type": "code",
   "execution_count": 18,
   "metadata": {
    "collapsed": true
   },
   "outputs": [],
   "source": [
    "def getCentroid(points):\n",
    "    n = points.shape[0]\n",
    "    sum_lon = np.sum(points[:, 1])\n",
    "    sum_lat = np.sum(points[:, 0])\n",
    "    return (sum_lon/n, sum_lat/n)"
   ]
  },
  {
   "cell_type": "code",
   "execution_count": 19,
   "metadata": {
    "collapsed": true
   },
   "outputs": [],
   "source": [
    "def getNearestPoint(set_of_points, point_of_reference):\n",
    "    closest_point = None\n",
    "    closest_dist = None\n",
    "    for point in set_of_points:\n",
    "        point = (point[1], point[0])\n",
    "        dist = great_circle(point_of_reference, point).meters\n",
    "        if (closest_dist is None) or (dist < closest_dist):\n",
    "            closest_point = point\n",
    "            closest_dist = dist\n",
    "    return closest_point"
   ]
  },
  {
   "cell_type": "code",
   "execution_count": 20,
   "metadata": {
    "collapsed": true
   },
   "outputs": [],
   "source": [
    "lon = []\n",
    "lat = []\n",
    "for i, cluster in clusters.iteritems():\n",
    "    if len(cluster) < 3:\n",
    "        representative_point = (cluster[0][1], cluster[0][0])\n",
    "    else:\n",
    "        representative_point = getNearestPoint(cluster, getCentroid(cluster))\n",
    "    lon.append(representative_point[0])\n",
    "    lat.append(representative_point[1])\n",
    "rs = pd.DataFrame({'lon':lon, 'lat':lat})"
   ]
  },
  {
   "cell_type": "code",
   "execution_count": 21,
   "metadata": {
    "collapsed": false
   },
   "outputs": [
    {
     "data": {
      "image/png": "[encoded data removed]",
      "text/plain": [
       "<matplotlib.figure.Figure at 0x10ae1ff10>"
      ]
     },
     "metadata": {},
     "output_type": "display_data"
    }
   ],
   "source": [
    "plt.figure(figsize=(16, 12), dpi=100)\n",
    "rs_scatter = plt.scatter(rs['lat'], rs['lon'], c='g', alpha=.4, s=150)\n",
    "df_scatter = plt.scatter(df2['longitude'], df2['latitude'], c='k', alpha=.5, s=5)\n",
    "plt.title('Full data set vs DBSCAN reduced set', fontsize=20)\n",
    "plt.legend((df_scatter, rs_scatter), ('Full set', 'Reduced set'), loc='upper left')\n",
    "plt.xlabel('Longitude', fontsize=18)\n",
    "plt.ylabel('Latitude', fontsize=18)\n",
    "plt.show()"
   ]
  },
  {
   "cell_type": "markdown",
   "metadata": {},
   "source": [
    "Add the column that denotes the cluster. "
   ]
  },
  {
   "cell_type": "code",
   "execution_count": 22,
   "metadata": {
    "collapsed": false
   },
   "outputs": [
    {
     "name": "stderr",
     "output_type": "stream",
     "text": [
      "/Users/Lexa/anaconda/lib/python2.7/site-packages/IPython/kernel/__main__.py:1: SettingWithCopyWarning: \n",
      "A value is trying to be set on a copy of a slice from a DataFrame.\n",
      "Try using .loc[row_indexer,col_indexer] = value instead\n",
      "\n",
      "See the the caveats in the documentation: http://pandas.pydata.org/pandas-docs/stable/indexing.html#indexing-view-versus-copy\n",
      "  if __name__ == '__main__':\n",
      "/Users/Lexa/anaconda/lib/python2.7/site-packages/IPython/kernel/__main__.py:5: SettingWithCopyWarning: \n",
      "A value is trying to be set on a copy of a slice from a DataFrame\n",
      "\n",
      "See the the caveats in the documentation: http://pandas.pydata.org/pandas-docs/stable/indexing.html#indexing-view-versus-copy\n"
     ]
    }
   ],
   "source": [
    "df2['cluster']=0\n",
    "i=0\n",
    "for clus in clusters:\n",
    "    for c in clus:\n",
    "        df2.cluster.loc[(df2.longitude == c[0]) & (df2.latitude == c[1])]=i\n",
    "    i=i+1"
   ]
  },
  {
   "cell_type": "markdown",
   "metadata": {},
   "source": [
    "Add the column that denotes the denominator. "
   ]
  },
  {
   "cell_type": "code",
   "execution_count": 23,
   "metadata": {
    "collapsed": false
   },
   "outputs": [
    {
     "name": "stderr",
     "output_type": "stream",
     "text": [
      "/Users/Lexa/anaconda/lib/python2.7/site-packages/IPython/kernel/__main__.py:1: SettingWithCopyWarning: \n",
      "A value is trying to be set on a copy of a slice from a DataFrame.\n",
      "Try using .loc[row_indexer,col_indexer] = value instead\n",
      "\n",
      "See the the caveats in the documentation: http://pandas.pydata.org/pandas-docs/stable/indexing.html#indexing-view-versus-copy\n",
      "  if __name__ == '__main__':\n",
      "/Users/Lexa/anaconda/lib/python2.7/site-packages/IPython/kernel/__main__.py:6: SettingWithCopyWarning: \n",
      "A value is trying to be set on a copy of a slice from a DataFrame\n",
      "\n",
      "See the the caveats in the documentation: http://pandas.pydata.org/pandas-docs/stable/indexing.html#indexing-view-versus-copy\n"
     ]
    }
   ],
   "source": [
    "df2['E_div']=0\n",
    "i=0\n",
    "for e in E_div:\n",
    "    val=e\n",
    "    cat=E_div.index[i]\n",
    "    df2.E_div.loc[df2.categories==cat]=val\n",
    "    i=i+1"
   ]
  },
  {
   "cell_type": "code",
   "execution_count": 25,
   "metadata": {
    "collapsed": false
   },
   "outputs": [
    {
     "name": "stderr",
     "output_type": "stream",
     "text": [
      "/Users/Lexa/anaconda/lib/python2.7/site-packages/IPython/kernel/__main__.py:1: SettingWithCopyWarning: \n",
      "A value is trying to be set on a copy of a slice from a DataFrame.\n",
      "Try using .loc[row_indexer,col_indexer] = value instead\n",
      "\n",
      "See the the caveats in the documentation: http://pandas.pydata.org/pandas-docs/stable/indexing.html#indexing-view-versus-copy\n",
      "  if __name__ == '__main__':\n",
      "/Users/Lexa/anaconda/lib/python2.7/site-packages/IPython/kernel/__main__.py:4: SettingWithCopyWarning: \n",
      "A value is trying to be set on a copy of a slice from a DataFrame\n",
      "\n",
      "See the the caveats in the documentation: http://pandas.pydata.org/pandas-docs/stable/indexing.html#indexing-view-versus-copy\n"
     ]
    }
   ],
   "source": [
    "df2['EI']=0\n",
    "for c in df2.cluster.unique():\n",
    "        suma = df2.review_count[df2.cluster == c].sum()\n",
    "        df2.EI.loc[df2.cluster ==c]=suma\n",
    "#train.head(5)"
   ]
  },
  {
   "cell_type": "code",
   "execution_count": 26,
   "metadata": {
    "collapsed": false
   },
   "outputs": [
    {
     "name": "stderr",
     "output_type": "stream",
     "text": [
      "/Users/Lexa/anaconda/lib/python2.7/site-packages/IPython/kernel/__main__.py:1: SettingWithCopyWarning: \n",
      "A value is trying to be set on a copy of a slice from a DataFrame.\n",
      "Try using .loc[row_indexer,col_indexer] = value instead\n",
      "\n",
      "See the the caveats in the documentation: http://pandas.pydata.org/pandas-docs/stable/indexing.html#indexing-view-versus-copy\n",
      "  if __name__ == '__main__':\n"
     ]
    }
   ],
   "source": [
    "df2['LQ'] = (df2.review_count/df2.EI)/df2.E_div"
   ]
  },
  {
   "cell_type": "code",
   "execution_count": 28,
   "metadata": {
    "collapsed": false
   },
   "outputs": [
    {
     "data": {
      "text/html": [
       "<div style=\"max-height:1000px;max-width:1500px;overflow:auto;\">\n",
       "<table border=\"1\" class=\"dataframe\">\n",
       "  <thead>\n",
       "    <tr style=\"text-align: right;\">\n",
       "      <th></th>\n",
       "      <th>Unnamed: 0</th>\n",
       "      <th>X</th>\n",
       "      <th>categories</th>\n",
       "      <th>city</th>\n",
       "      <th>full_address</th>\n",
       "      <th>latitude</th>\n",
       "      <th>longitude</th>\n",
       "      <th>name</th>\n",
       "      <th>open</th>\n",
       "      <th>review_count</th>\n",
       "      <th>stars</th>\n",
       "      <th>state</th>\n",
       "      <th>type</th>\n",
       "      <th>zipcode</th>\n",
       "      <th>cluster</th>\n",
       "      <th>E_div</th>\n",
       "      <th>EI</th>\n",
       "      <th>LQ</th>\n",
       "    </tr>\n",
       "  </thead>\n",
       "  <tbody>\n",
       "    <tr>\n",
       "      <th>139465</th>\n",
       "      <td>139466</td>\n",
       "      <td>2</td>\n",
       "      <td>Nightlife</td>\n",
       "      <td>Dravosburg</td>\n",
       "      <td>Dravosburg, PA 15034</td>\n",
       "      <td>40.350519</td>\n",
       "      <td>-79.88693</td>\n",
       "      <td>Clancy's Pub</td>\n",
       "      <td>True</td>\n",
       "      <td>4</td>\n",
       "      <td>3.5</td>\n",
       "      <td>PA</td>\n",
       "      <td>business</td>\n",
       "      <td>15034</td>\n",
       "      <td>0</td>\n",
       "      <td>0.047206</td>\n",
       "      <td>3006</td>\n",
       "      <td>0.028189</td>\n",
       "    </tr>\n",
       "    <tr>\n",
       "      <th>139466</th>\n",
       "      <td>139467</td>\n",
       "      <td>3</td>\n",
       "      <td>Active Life</td>\n",
       "      <td>Bethel Park</td>\n",
       "      <td>Bethel Park, PA 15234</td>\n",
       "      <td>40.356896</td>\n",
       "      <td>-80.01591</td>\n",
       "      <td>Cool Springs Golf Center</td>\n",
       "      <td>False</td>\n",
       "      <td>5</td>\n",
       "      <td>2.5</td>\n",
       "      <td>PA</td>\n",
       "      <td>business</td>\n",
       "      <td>15234</td>\n",
       "      <td>224</td>\n",
       "      <td>0.006258</td>\n",
       "      <td>35</td>\n",
       "      <td>22.828972</td>\n",
       "    </tr>\n",
       "    <tr>\n",
       "      <th>139467</th>\n",
       "      <td>139468</td>\n",
       "      <td>4</td>\n",
       "      <td>Mini Golf</td>\n",
       "      <td>Bethel Park</td>\n",
       "      <td>Bethel Park, PA 15234</td>\n",
       "      <td>40.356896</td>\n",
       "      <td>-80.01591</td>\n",
       "      <td>Cool Springs Golf Center</td>\n",
       "      <td>False</td>\n",
       "      <td>5</td>\n",
       "      <td>2.5</td>\n",
       "      <td>PA</td>\n",
       "      <td>business</td>\n",
       "      <td>15234</td>\n",
       "      <td>224</td>\n",
       "      <td>0.000055</td>\n",
       "      <td>35</td>\n",
       "      <td>2575.869048</td>\n",
       "    </tr>\n",
       "    <tr>\n",
       "      <th>139468</th>\n",
       "      <td>139469</td>\n",
       "      <td>5</td>\n",
       "      <td>Golf</td>\n",
       "      <td>Bethel Park</td>\n",
       "      <td>Bethel Park, PA 15234</td>\n",
       "      <td>40.356896</td>\n",
       "      <td>-80.01591</td>\n",
       "      <td>Cool Springs Golf Center</td>\n",
       "      <td>False</td>\n",
       "      <td>5</td>\n",
       "      <td>2.5</td>\n",
       "      <td>PA</td>\n",
       "      <td>business</td>\n",
       "      <td>15234</td>\n",
       "      <td>224</td>\n",
       "      <td>0.000046</td>\n",
       "      <td>35</td>\n",
       "      <td>3091.042857</td>\n",
       "    </tr>\n",
       "    <tr>\n",
       "      <th>139469</th>\n",
       "      <td>139470</td>\n",
       "      <td>6</td>\n",
       "      <td>Shopping</td>\n",
       "      <td>Pittsburgh</td>\n",
       "      <td>Pittsburgh, PA 15241</td>\n",
       "      <td>40.357620</td>\n",
       "      <td>-80.05998</td>\n",
       "      <td>Verizon Wireless</td>\n",
       "      <td>True</td>\n",
       "      <td>3</td>\n",
       "      <td>3.5</td>\n",
       "      <td>PA</td>\n",
       "      <td>business</td>\n",
       "      <td>15241</td>\n",
       "      <td>207</td>\n",
       "      <td>0.013149</td>\n",
       "      <td>18</td>\n",
       "      <td>12.675630</td>\n",
       "    </tr>\n",
       "  </tbody>\n",
       "</table>\n",
       "</div>"
      ],
      "text/plain": [
       "        Unnamed: 0  X   categories         city            full_address  \\\n",
       "139465      139466  2    Nightlife   Dravosburg    Dravosburg, PA 15034   \n",
       "139466      139467  3  Active Life  Bethel Park   Bethel Park, PA 15234   \n",
       "139467      139468  4    Mini Golf  Bethel Park   Bethel Park, PA 15234   \n",
       "139468      139469  5         Golf  Bethel Park   Bethel Park, PA 15234   \n",
       "139469      139470  6     Shopping   Pittsburgh    Pittsburgh, PA 15241   \n",
       "\n",
       "         latitude  longitude                      name   open  review_count  \\\n",
       "139465  40.350519  -79.88693              Clancy's Pub   True             4   \n",
       "139466  40.356896  -80.01591  Cool Springs Golf Center  False             5   \n",
       "139467  40.356896  -80.01591  Cool Springs Golf Center  False             5   \n",
       "139468  40.356896  -80.01591  Cool Springs Golf Center  False             5   \n",
       "139469  40.357620  -80.05998          Verizon Wireless   True             3   \n",
       "\n",
       "        stars state      type zipcode  cluster     E_div    EI           LQ  \n",
       "139465    3.5    PA  business   15034        0  0.047206  3006     0.028189  \n",
       "139466    2.5    PA  business   15234      224  0.006258    35    22.828972  \n",
       "139467    2.5    PA  business   15234      224  0.000055    35  2575.869048  \n",
       "139468    2.5    PA  business   15234      224  0.000046    35  3091.042857  \n",
       "139469    3.5    PA  business   15241      207  0.013149    18    12.675630  "
      ]
     },
     "execution_count": 28,
     "metadata": {},
     "output_type": "execute_result"
    }
   ],
   "source": [
    "df2.head(5)"
   ]
  },
  {
   "cell_type": "code",
   "execution_count": null,
   "metadata": {
    "collapsed": true
   },
   "outputs": [],
   "source": []
  }
 ],
 "metadata": {
  "kernelspec": {
   "display_name": "Python 2",
   "language": "python",
   "name": "python2"
  },
  "language_info": {
   "codemirror_mode": {
    "name": "ipython",
    "version": 2
   },
   "file_extension": ".py",
   "mimetype": "text/x-python",
   "name": "python",
   "nbconvert_exporter": "python",
   "pygments_lexer": "ipython2",
   "version": "2.7.9"
  }
 },
 "nbformat": 4,
 "nbformat_minor": 0
}
