{
 "cells": [
  {
   "cell_type": "markdown",
   "metadata": {},
   "source": [
    "#Sneak peak\n",
    "\n",
    "Previous analysis peaked my interest. Now I am curious will I be able to find a demographic characteristic that explain the difference.<br><br>\n",
    "\n",
    "However, to avoid an influence of climate I should pick a category that happens mostly indoors. <br>\n",
    "After examining the census data, seems like a category related to education would be a correct pick. So, I decided to go with Bookstores. "
   ]
  },
  {
   "cell_type": "markdown",
   "metadata": {},
   "source": [
    "Let us get data. "
   ]
  },
  {
   "cell_type": "code",
   "execution_count": 40,
   "metadata": {
    "collapsed": false
   },
   "outputs": [
    {
     "name": "stdout",
     "output_type": "stream",
     "text": [
      "Populating the interactive namespace from numpy and matplotlib\n"
     ]
    },
    {
     "name": "stderr",
     "output_type": "stream",
     "text": [
      "WARNING: pylab import has clobbered these variables: ['show', 'figure', 'Figure', 'save']\n",
      "`%matplotlib` prevents importing * from pylab and numpy\n"
     ]
    }
   ],
   "source": [
    "#general\n",
    "import numpy as np\n",
    "import scipy\n",
    "from matplotlib import pyplot as plt\n",
    "%pylab inline\n",
    "import pandas as pd\n",
    "import MySQLdb\n",
    "import os\n",
    "import sys\n",
    "sys.setrecursionlimit(3000)"
   ]
  },
  {
   "cell_type": "code",
   "execution_count": 4,
   "metadata": {
    "collapsed": false
   },
   "outputs": [
    {
     "name": "stdout",
     "output_type": "stream",
     "text": [
      "data loaded\n"
     ]
    },
    {
     "name": "stderr",
     "output_type": "stream",
     "text": [
      "/Users/Lexa/anaconda/lib/python2.7/site-packages/pandas/io/sql.py:1474: Warning: Truncated incorrect DOUBLE value: 'longitude'\n",
      "  cur.execute(*args)\n",
      "/Users/Lexa/anaconda/lib/python2.7/site-packages/pandas/io/sql.py:1474: Warning: Truncated incorrect DOUBLE value: '\"Scottsdale'\n",
      "  cur.execute(*args)\n"
     ]
    }
   ],
   "source": [
    "con=MySQLdb.connect(user=user, passwd=passwd, db=dbname, host=host)\n",
    "df2 = pd.read_sql(\"SELECT * FROM business WHERE longitude <= -65 AND longitude >=-127.77 AND latitude >=24.52 AND latitude<=49.38\", con)\n",
    "print \"data loaded\""
   ]
  },
  {
   "cell_type": "code",
   "execution_count": 7,
   "metadata": {
    "collapsed": false
   },
   "outputs": [],
   "source": [
    "states = ['AZ', 'CA', 'IL', 'MA', 'MN', 'NC', 'NV', 'OR', 'PA', 'SC', 'WA', 'WI']\n",
    "df2 = df.loc[df['state'].isin(states)]\n",
    "#df2.head(5)"
   ]
  },
  {
   "cell_type": "code",
   "execution_count": 10,
   "metadata": {
    "collapsed": false
   },
   "outputs": [
    {
     "name": "stderr",
     "output_type": "stream",
     "text": [
      "/Users/Lexa/anaconda/lib/python2.7/site-packages/IPython/kernel/__main__.py:3: SettingWithCopyWarning: \n",
      "A value is trying to be set on a copy of a slice from a DataFrame.\n",
      "Try using .loc[row_indexer,col_indexer] = value instead\n",
      "\n",
      "See the the caveats in the documentation: http://pandas.pydata.org/pandas-docs/stable/indexing.html#indexing-view-versus-copy\n",
      "  app.launch_new_instance()\n"
     ]
    }
   ],
   "source": [
    "from sklearn.preprocessing import LabelEncoder\n",
    "le = LabelEncoder()\n",
    "df2['nice_cat'] = le.fit_transform(df2.categories)\n",
    "#df.head(5)"
   ]
  },
  {
   "cell_type": "markdown",
   "metadata": {
    "collapsed": false
   },
   "source": [
    "And now, select bookstores."
   ]
  },
  {
   "cell_type": "code",
   "execution_count": 11,
   "metadata": {
    "collapsed": false
   },
   "outputs": [],
   "source": [
    "cat = [ 'Bookstores']  \n",
    "dfcat = df2.loc[df2['categories'].isin(cat)]\n"
   ]
  },
  {
   "cell_type": "markdown",
   "metadata": {},
   "source": [
    "So let us see, is there a change across states? "
   ]
  },
  {
   "cell_type": "code",
   "execution_count": 12,
   "metadata": {
    "collapsed": false
   },
   "outputs": [
    {
     "data": {
      "image/png": "[encoded data removed]",
      "text/plain": [
       "<matplotlib.figure.Figure at 0x111003090>"
      ]
     },
     "metadata": {},
     "output_type": "display_data"
    }
   ],
   "source": [
    "import matplotlib as mpl\n",
    "import seaborn as sns\n",
    "sns.set(style=\"white\")\n",
    "np.random.seed(sum(map(ord, \"axis_grids\")))\n",
    "tips = dfcat #sns.load_dataset(\"dfcat2\")\n",
    "g = sns.FacetGrid(tips, col=\"state\", hue=\"stars\", size =1.5, aspect =1.5)\n",
    "(g.map(plt.scatter, \"review_count\", \"nice_cat\")\n",
    "     .add_legend(title=\"stars\"))"
   ]
  },
  {
   "cell_type": "markdown",
   "metadata": {
    "collapsed": false
   },
   "source": [
    "There is a change. <br>\n",
    "So let us see how it relates to education levels.  "
   ]
  },
  {
   "cell_type": "code",
   "execution_count": 81,
   "metadata": {
    "collapsed": false
   },
   "outputs": [
    {
     "data": {
      "text/plain": [
       "array([92])"
      ]
     },
     "execution_count": 81,
     "metadata": {},
     "output_type": "execute_result"
    }
   ],
   "source": [
    "dfcat.nice_cat.unique()"
   ]
  },
  {
   "cell_type": "code",
   "execution_count": 82,
   "metadata": {
    "collapsed": false
   },
   "outputs": [],
   "source": [
    "dfcAZ = dfcat[dfcat.state == 'AZ'] \n",
    "dfcNC = dfcat[dfcat.state == 'NC'] "
   ]
  },
  {
   "cell_type": "code",
   "execution_count": 83,
   "metadata": {
    "collapsed": false
   },
   "outputs": [
    {
     "data": {
      "text/plain": [
       "array(['Charlotte', 'Concord', 'Harrisburg'], dtype=object)"
      ]
     },
     "execution_count": 83,
     "metadata": {},
     "output_type": "execute_result"
    }
   ],
   "source": [
    "dfcNC.city.unique()"
   ]
  },
  {
   "cell_type": "code",
   "execution_count": 84,
   "metadata": {
    "collapsed": false
   },
   "outputs": [
    {
     "data": {
      "text/plain": [
       "array(['Phoenix', 'Mesa', 'Chandler', 'Scottsdale', 'Goodyear', 'Glendale',\n",
       "       'Peoria', 'Tempe', 'Sun City', 'Gilbert', 'Surprise'], dtype=object)"
      ]
     },
     "execution_count": 84,
     "metadata": {},
     "output_type": "execute_result"
    }
   ],
   "source": [
    "dfcAZ.city.unique()"
   ]
  },
  {
   "cell_type": "code",
   "execution_count": 85,
   "metadata": {
    "collapsed": false
   },
   "outputs": [
    {
     "data": {
      "text/plain": [
       "array([' 85014', ' 85012', ' 85016', ' 85018', ' 85032', ' 85044',\n",
       "       ' 85050', ' 85202', ' 85204', ' 85209', ' 85210', ' 85226',\n",
       "       ' 85250', ' 85254', ' 85338', ' 85258', ' 85302', ' 85308',\n",
       "       ' 85395', ' 85382', ' 85017', ' 85021', ' 85051', ' 85053',\n",
       "       ' 85201', ' 85251', ' 85257', ' 85281', ' 85301', ' 85283',\n",
       "       ' 85004', ' 85297', ' 85306', ' 85029', ' 85374', ' 85085',\n",
       "       ' 85224', ' 85206', ' 85048', ' 85233', ' 85266', ' 85295', ' 85013'], dtype=object)"
      ]
     },
     "execution_count": 85,
     "metadata": {},
     "output_type": "execute_result"
    }
   ],
   "source": [
    "dfcAZ.zipcode.unique()"
   ]
  },
  {
   "cell_type": "markdown",
   "metadata": {
    "collapsed": true
   },
   "source": [
    "## Continuation after geting the census data "
   ]
  },
  {
   "cell_type": "code",
   "execution_count": 13,
   "metadata": {
    "collapsed": false
   },
   "outputs": [
    {
     "name": "stdout",
     "output_type": "stream",
     "text": [
      "data loaded\n"
     ]
    }
   ],
   "source": [
    "con=MySQLdb.connect(user=user, passwd=passwd, db=dbname, host=host)\n",
    "df = pd.read_sql(\"SELECT city, review_count, COUNT(bussiness_id) FROM business WHERE categories = 'Bookstores' JOIN (SELECT * FROM Education)\", con)\n",
    "print \"data loaded\""
   ]
  },
  {
   "cell_type": "code",
   "execution_count": 15,
   "metadata": {
    "collapsed": false
   },
   "outputs": [
    {
     "data": {
      "text/html": [
       "<div style=\"max-height:1000px;max-width:1500px;overflow:auto;\">\n",
       "<table border=\"1\" class=\"dataframe\">\n",
       "  <thead>\n",
       "    <tr style=\"text-align: right;\">\n",
       "      <th></th>\n",
       "      <th>Unnamed: 0</th>\n",
       "      <th>city</th>\n",
       "      <th>review_count</th>\n",
       "      <th>countsBuss</th>\n",
       "      <th>stars</th>\n",
       "      <th>p18to24</th>\n",
       "      <th>lessHighS</th>\n",
       "      <th>highS</th>\n",
       "      <th>someCollege</th>\n",
       "      <th>bachelorOrHiger</th>\n",
       "      <th>...</th>\n",
       "      <th>less9gr</th>\n",
       "      <th>g9to12noDip</th>\n",
       "      <th>o25highS</th>\n",
       "      <th>o25someCollegeNoDip</th>\n",
       "      <th>o25associate</th>\n",
       "      <th>o25Bachelor</th>\n",
       "      <th>o25Graduate</th>\n",
       "      <th>rewPo25</th>\n",
       "      <th>population</th>\n",
       "      <th>rewPo</th>\n",
       "    </tr>\n",
       "  </thead>\n",
       "  <tbody>\n",
       "    <tr>\n",
       "      <th>0</th>\n",
       "      <td>1</td>\n",
       "      <td>Chandler</td>\n",
       "      <td>32</td>\n",
       "      <td>4</td>\n",
       "      <td>3.6</td>\n",
       "      <td>30955</td>\n",
       "      <td>13.7</td>\n",
       "      <td>31.3</td>\n",
       "      <td>46.3</td>\n",
       "      <td>8.7</td>\n",
       "      <td>...</td>\n",
       "      <td>2.9</td>\n",
       "      <td>3.6</td>\n",
       "      <td>17.0</td>\n",
       "      <td>26.1</td>\n",
       "      <td>9.9</td>\n",
       "      <td>26.4</td>\n",
       "      <td>14.1</td>\n",
       "      <td>0.064246</td>\n",
       "      <td>398077</td>\n",
       "      <td>0.040193</td>\n",
       "    </tr>\n",
       "    <tr>\n",
       "      <th>1</th>\n",
       "      <td>2</td>\n",
       "      <td>Concord</td>\n",
       "      <td>9</td>\n",
       "      <td>1</td>\n",
       "      <td>2.5</td>\n",
       "      <td>14157</td>\n",
       "      <td>21.5</td>\n",
       "      <td>36.6</td>\n",
       "      <td>36.3</td>\n",
       "      <td>5.6</td>\n",
       "      <td>...</td>\n",
       "      <td>4.4</td>\n",
       "      <td>9.2</td>\n",
       "      <td>27.6</td>\n",
       "      <td>24.3</td>\n",
       "      <td>9.4</td>\n",
       "      <td>17.4</td>\n",
       "      <td>7.7</td>\n",
       "      <td>0.038088</td>\n",
       "      <td>947135</td>\n",
       "      <td>0.004751</td>\n",
       "    </tr>\n",
       "    <tr>\n",
       "      <th>2</th>\n",
       "      <td>3</td>\n",
       "      <td>Goodyear</td>\n",
       "      <td>13</td>\n",
       "      <td>2</td>\n",
       "      <td>4.3</td>\n",
       "      <td>4842</td>\n",
       "      <td>17.0</td>\n",
       "      <td>36.0</td>\n",
       "      <td>42.9</td>\n",
       "      <td>4.2</td>\n",
       "      <td>...</td>\n",
       "      <td>2.9</td>\n",
       "      <td>5.6</td>\n",
       "      <td>24.1</td>\n",
       "      <td>28.9</td>\n",
       "      <td>9.6</td>\n",
       "      <td>19.2</td>\n",
       "      <td>9.6</td>\n",
       "      <td>0.146015</td>\n",
       "      <td>181415</td>\n",
       "      <td>0.035829</td>\n",
       "    </tr>\n",
       "    <tr>\n",
       "      <th>3</th>\n",
       "      <td>4</td>\n",
       "      <td>Las Vegas</td>\n",
       "      <td>403</td>\n",
       "      <td>29</td>\n",
       "      <td>3.7</td>\n",
       "      <td>54127</td>\n",
       "      <td>24.6</td>\n",
       "      <td>36.5</td>\n",
       "      <td>34.7</td>\n",
       "      <td>4.2</td>\n",
       "      <td>...</td>\n",
       "      <td>7.6</td>\n",
       "      <td>9.9</td>\n",
       "      <td>28.9</td>\n",
       "      <td>24.7</td>\n",
       "      <td>7.4</td>\n",
       "      <td>14.0</td>\n",
       "      <td>7.4</td>\n",
       "      <td>0.516460</td>\n",
       "      <td>67536</td>\n",
       "      <td>2.983594</td>\n",
       "    </tr>\n",
       "    <tr>\n",
       "      <th>4</th>\n",
       "      <td>5</td>\n",
       "      <td>McKees Rocks</td>\n",
       "      <td>4</td>\n",
       "      <td>1</td>\n",
       "      <td>4.0</td>\n",
       "      <td>582</td>\n",
       "      <td>22.2</td>\n",
       "      <td>32.3</td>\n",
       "      <td>41.6</td>\n",
       "      <td>4.0</td>\n",
       "      <td>...</td>\n",
       "      <td>3.6</td>\n",
       "      <td>13.0</td>\n",
       "      <td>47.8</td>\n",
       "      <td>17.4</td>\n",
       "      <td>5.7</td>\n",
       "      <td>9.2</td>\n",
       "      <td>3.3</td>\n",
       "      <td>0.479501</td>\n",
       "      <td>591496</td>\n",
       "      <td>0.003381</td>\n",
       "    </tr>\n",
       "  </tbody>\n",
       "</table>\n",
       "<p>5 rows × 21 columns</p>\n",
       "</div>"
      ],
      "text/plain": [
       "   Unnamed: 0          city  review_count  countsBuss  stars  p18to24  \\\n",
       "0           1      Chandler            32           4    3.6    30955   \n",
       "1           2       Concord             9           1    2.5    14157   \n",
       "2           3      Goodyear            13           2    4.3     4842   \n",
       "3           4     Las Vegas           403          29    3.7    54127   \n",
       "4           5  McKees Rocks             4           1    4.0      582   \n",
       "\n",
       "   lessHighS  highS  someCollege  bachelorOrHiger    ...     less9gr  \\\n",
       "0       13.7   31.3         46.3              8.7    ...         2.9   \n",
       "1       21.5   36.6         36.3              5.6    ...         4.4   \n",
       "2       17.0   36.0         42.9              4.2    ...         2.9   \n",
       "3       24.6   36.5         34.7              4.2    ...         7.6   \n",
       "4       22.2   32.3         41.6              4.0    ...         3.6   \n",
       "\n",
       "   g9to12noDip  o25highS  o25someCollegeNoDip  o25associate  o25Bachelor  \\\n",
       "0          3.6      17.0                 26.1           9.9         26.4   \n",
       "1          9.2      27.6                 24.3           9.4         17.4   \n",
       "2          5.6      24.1                 28.9           9.6         19.2   \n",
       "3          9.9      28.9                 24.7           7.4         14.0   \n",
       "4         13.0      47.8                 17.4           5.7          9.2   \n",
       "\n",
       "   o25Graduate   rewPo25  population     rewPo  \n",
       "0         14.1  0.064246      398077  0.040193  \n",
       "1          7.7  0.038088      947135  0.004751  \n",
       "2          9.6  0.146015      181415  0.035829  \n",
       "3          7.4  0.516460       67536  2.983594  \n",
       "4          3.3  0.479501      591496  0.003381  \n",
       "\n",
       "[5 rows x 21 columns]"
      ]
     },
     "execution_count": 15,
     "metadata": {},
     "output_type": "execute_result"
    }
   ],
   "source": [
    "df.head()"
   ]
  },
  {
   "cell_type": "markdown",
   "metadata": {},
   "source": [
    "Let us try the simplest analysis, linear regression. Here I decided to write it from a scratch. Just because I like to know what exactly is happening inside a procedure. <br> Later, I will change it to a canned solution in Python. "
   ]
  },
  {
   "cell_type": "code",
   "execution_count": 16,
   "metadata": {
    "collapsed": true
   },
   "outputs": [],
   "source": [
    "def basic_linear_regression(x, y):   \n",
    "    length = len(x)\n",
    "    sum_x = sum(x)\n",
    "    sum_y = sum(y)\n",
    "    # Σx^2, and Σxy respectively.\n",
    "    sum_x_squared = sum(map(lambda a: a * a, x))\n",
    "    sum_of_products = sum([x[i] * y[i] for i in range(length)])  \n",
    "    a = (sum_of_products - (sum_x * sum_y) / length) / (sum_x_squared - ((sum_x ** 2) / length))\n",
    "    b = (sum_y - a * sum_x) / length\n",
    "    return a, b\n",
    " "
   ]
  },
  {
   "cell_type": "code",
   "execution_count": 17,
   "metadata": {
    "collapsed": false
   },
   "outputs": [
    {
     "name": "stdout",
     "output_type": "stream",
     "text": [
      "(-0.039857002474422795, 0.066253302995708321)\n"
     ]
    }
   ],
   "source": [
    "\n",
    "xh = df[\"o25Bachelor\"].values\n",
    "xxh =xh/100\n",
    "yh = df[\"rewPo\"].values\n",
    "yyh = yh/100\n",
    "x = np.arcsin(np.sqrt(xxh))\n",
    "y = np.arcsin(np.sqrt(yyh))\n",
    "regression = basic_linear_regression(x,y)\n",
    "print  regression"
   ]
  },
  {
   "cell_type": "markdown",
   "metadata": {},
   "source": [
    "Let us plot it. "
   ]
  },
  {
   "cell_type": "code",
   "execution_count": 47,
   "metadata": {
    "collapsed": false
   },
   "outputs": [
    {
     "data": {
      "text/plain": [
       "<seaborn.axisgrid.FacetGrid at 0x10bf5bdd0>"
      ]
     },
     "execution_count": 47,
     "metadata": {},
     "output_type": "execute_result"
    },
    {
     "data": {
      "image/png": "[encoded data removed]",
      "text/plain": [
       "<matplotlib.figure.Figure at 0x10bf5be90>"
      ]
     },
     "metadata": {},
     "output_type": "display_data"
    }
   ],
   "source": [
    "import seaborn as sns\n",
    "d = {'col1': x, 'col2': y}\n",
    "xx = pd.DataFrame(data=d)\n",
    "sns.lmplot('col1','col2',xx)"
   ]
  },
  {
   "cell_type": "markdown",
   "metadata": {
    "collapsed": true
   },
   "source": [
    "So there is a negative correlation.<br>\n",
    "\n",
    "Surprising. <br>\n",
    "\n",
    "Why?<br>\n",
    "\n",
    "I've looked in detail what is happening in Las Vegas since, surprisingly that has the largest number of bookstores. A reason jumped on me. <br>\n",
    "In Las Vegas, bookstores are bookies. Therefore, it is not surprising that 'bookstores' are negatively correlated. I doubt that many people who understand probability would gamble... "
   ]
  },
  {
   "cell_type": "code",
   "execution_count": null,
   "metadata": {
    "collapsed": true
   },
   "outputs": [],
   "source": []
  }
 ],
 "metadata": {
  "kernelspec": {
   "display_name": "Python 2",
   "language": "python",
   "name": "python2"
  },
  "language_info": {
   "codemirror_mode": {
    "name": "ipython",
    "version": 2
   },
   "file_extension": ".py",
   "mimetype": "text/x-python",
   "name": "python",
   "nbconvert_exporter": "python",
   "pygments_lexer": "ipython2",
   "version": "2.7.9"
  }
 },
 "nbformat": 4,
 "nbformat_minor": 0
}
