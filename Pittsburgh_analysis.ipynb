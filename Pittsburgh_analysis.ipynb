{
 "cells": [
  {
   "cell_type": "markdown",
   "metadata": {},
   "source": [
    "# Analysis of the clusters\n",
    "\n",
    "So the time is here to do some analysis.   \n",
    "For fun of it let see what is going on in Pittsburg, PA"
   ]
  },
  {
   "cell_type": "code",
   "execution_count": 1,
   "metadata": {
    "collapsed": false
   },
   "outputs": [
    {
     "name": "stdout",
     "output_type": "stream",
     "text": [
      "Populating the interactive namespace from numpy and matplotlib\n"
     ]
    }
   ],
   "source": [
    "#general\n",
    "import numpy as np\n",
    "import scipy\n",
    "from matplotlib import pyplot as plt\n",
    "%pylab inline\n",
    "import pandas as pd\n",
    "import MySQLdb\n",
    "import os\n",
    "import sys\n",
    "sys.setrecursionlimit(3000)"
   ]
  },
  {
   "cell_type": "code",
   "execution_count": 2,
   "metadata": {
    "collapsed": true
   },
   "outputs": [],
   "source": [
    "user = 'root'\n",
    "passwd = 'Moj_0q5_0e48e4'\n",
    "dbname = 'IP_db'\n",
    "host = 'localhost'"
   ]
  },
  {
   "cell_type": "code",
   "execution_count": 4,
   "metadata": {
    "collapsed": false
   },
   "outputs": [
    {
     "name": "stdout",
     "output_type": "stream",
     "text": [
      "data loaded\n"
     ]
    }
   ],
   "source": [
    "con=MySQLdb.connect(user=user, passwd=passwd, db=dbname, host=host)\n",
    "df = pd.read_sql(\"SELECT * FROM business WHERE state ='PA' \", con)\n",
    "print \"data loaded\""
   ]
  },
  {
   "cell_type": "code",
   "execution_count": 5,
   "metadata": {
    "collapsed": false
   },
   "outputs": [
    {
     "data": {
      "text/html": [
       "<div style=\"max-height:1000px;max-width:1500px;overflow:auto;\">\n",
       "<table border=\"1\" class=\"dataframe\">\n",
       "  <thead>\n",
       "    <tr style=\"text-align: right;\">\n",
       "      <th></th>\n",
       "      <th>Unnamed: 0</th>\n",
       "      <th>Unnamed: 0.1</th>\n",
       "      <th>X</th>\n",
       "      <th>categories</th>\n",
       "      <th>city</th>\n",
       "      <th>full_address</th>\n",
       "      <th>latitude</th>\n",
       "      <th>longitude</th>\n",
       "      <th>name</th>\n",
       "      <th>open</th>\n",
       "      <th>review_count</th>\n",
       "      <th>stars</th>\n",
       "      <th>state</th>\n",
       "      <th>type</th>\n",
       "      <th>zipcode</th>\n",
       "      <th>cluster</th>\n",
       "      <th>E_div</th>\n",
       "      <th>EI</th>\n",
       "      <th>LQ</th>\n",
       "    </tr>\n",
       "  </thead>\n",
       "  <tbody>\n",
       "    <tr>\n",
       "      <th>0</th>\n",
       "      <td>139465</td>\n",
       "      <td>139466</td>\n",
       "      <td>2</td>\n",
       "      <td>Nightlife</td>\n",
       "      <td>Dravosburg</td>\n",
       "      <td>Dravosburg, PA 15034</td>\n",
       "      <td>40.350519</td>\n",
       "      <td>-79.88693</td>\n",
       "      <td>Clancy's Pub</td>\n",
       "      <td>True</td>\n",
       "      <td>4</td>\n",
       "      <td>3.5</td>\n",
       "      <td>PA</td>\n",
       "      <td>business</td>\n",
       "      <td>15034</td>\n",
       "      <td>0</td>\n",
       "      <td>0.047206</td>\n",
       "      <td>3006</td>\n",
       "      <td>0.028189</td>\n",
       "    </tr>\n",
       "    <tr>\n",
       "      <th>1</th>\n",
       "      <td>139466</td>\n",
       "      <td>139467</td>\n",
       "      <td>3</td>\n",
       "      <td>Active Life</td>\n",
       "      <td>Bethel Park</td>\n",
       "      <td>Bethel Park, PA 15234</td>\n",
       "      <td>40.356896</td>\n",
       "      <td>-80.01591</td>\n",
       "      <td>Cool Springs Golf Center</td>\n",
       "      <td>False</td>\n",
       "      <td>5</td>\n",
       "      <td>2.5</td>\n",
       "      <td>PA</td>\n",
       "      <td>business</td>\n",
       "      <td>15234</td>\n",
       "      <td>224</td>\n",
       "      <td>0.006258</td>\n",
       "      <td>35</td>\n",
       "      <td>22.828972</td>\n",
       "    </tr>\n",
       "    <tr>\n",
       "      <th>2</th>\n",
       "      <td>139467</td>\n",
       "      <td>139468</td>\n",
       "      <td>4</td>\n",
       "      <td>Mini Golf</td>\n",
       "      <td>Bethel Park</td>\n",
       "      <td>Bethel Park, PA 15234</td>\n",
       "      <td>40.356896</td>\n",
       "      <td>-80.01591</td>\n",
       "      <td>Cool Springs Golf Center</td>\n",
       "      <td>False</td>\n",
       "      <td>5</td>\n",
       "      <td>2.5</td>\n",
       "      <td>PA</td>\n",
       "      <td>business</td>\n",
       "      <td>15234</td>\n",
       "      <td>224</td>\n",
       "      <td>0.000055</td>\n",
       "      <td>35</td>\n",
       "      <td>2575.869048</td>\n",
       "    </tr>\n",
       "    <tr>\n",
       "      <th>3</th>\n",
       "      <td>139468</td>\n",
       "      <td>139469</td>\n",
       "      <td>5</td>\n",
       "      <td>Golf</td>\n",
       "      <td>Bethel Park</td>\n",
       "      <td>Bethel Park, PA 15234</td>\n",
       "      <td>40.356896</td>\n",
       "      <td>-80.01591</td>\n",
       "      <td>Cool Springs Golf Center</td>\n",
       "      <td>False</td>\n",
       "      <td>5</td>\n",
       "      <td>2.5</td>\n",
       "      <td>PA</td>\n",
       "      <td>business</td>\n",
       "      <td>15234</td>\n",
       "      <td>224</td>\n",
       "      <td>0.000046</td>\n",
       "      <td>35</td>\n",
       "      <td>3091.042857</td>\n",
       "    </tr>\n",
       "    <tr>\n",
       "      <th>4</th>\n",
       "      <td>139469</td>\n",
       "      <td>139470</td>\n",
       "      <td>6</td>\n",
       "      <td>Shopping</td>\n",
       "      <td>Pittsburgh</td>\n",
       "      <td>Pittsburgh, PA 15241</td>\n",
       "      <td>40.357620</td>\n",
       "      <td>-80.05998</td>\n",
       "      <td>Verizon Wireless</td>\n",
       "      <td>True</td>\n",
       "      <td>3</td>\n",
       "      <td>3.5</td>\n",
       "      <td>PA</td>\n",
       "      <td>business</td>\n",
       "      <td>15241</td>\n",
       "      <td>207</td>\n",
       "      <td>0.013149</td>\n",
       "      <td>18</td>\n",
       "      <td>12.675630</td>\n",
       "    </tr>\n",
       "  </tbody>\n",
       "</table>\n",
       "</div>"
      ],
      "text/plain": [
       "   Unnamed: 0  Unnamed: 0.1  X   categories         city  \\\n",
       "0      139465        139466  2    Nightlife   Dravosburg   \n",
       "1      139466        139467  3  Active Life  Bethel Park   \n",
       "2      139467        139468  4    Mini Golf  Bethel Park   \n",
       "3      139468        139469  5         Golf  Bethel Park   \n",
       "4      139469        139470  6     Shopping   Pittsburgh   \n",
       "\n",
       "             full_address   latitude  longitude                      name  \\\n",
       "0    Dravosburg, PA 15034  40.350519  -79.88693              Clancy's Pub   \n",
       "1   Bethel Park, PA 15234  40.356896  -80.01591  Cool Springs Golf Center   \n",
       "2   Bethel Park, PA 15234  40.356896  -80.01591  Cool Springs Golf Center   \n",
       "3   Bethel Park, PA 15234  40.356896  -80.01591  Cool Springs Golf Center   \n",
       "4    Pittsburgh, PA 15241  40.357620  -80.05998          Verizon Wireless   \n",
       "\n",
       "    open  review_count  stars state      type zipcode  cluster     E_div  \\\n",
       "0   True             4    3.5    PA  business   15034        0  0.047206   \n",
       "1  False             5    2.5    PA  business   15234      224  0.006258   \n",
       "2  False             5    2.5    PA  business   15234      224  0.000055   \n",
       "3  False             5    2.5    PA  business   15234      224  0.000046   \n",
       "4   True             3    3.5    PA  business   15241      207  0.013149   \n",
       "\n",
       "     EI           LQ  \n",
       "0  3006     0.028189  \n",
       "1    35    22.828972  \n",
       "2    35  2575.869048  \n",
       "3    35  3091.042857  \n",
       "4    18    12.675630  "
      ]
     },
     "execution_count": 5,
     "metadata": {},
     "output_type": "execute_result"
    }
   ],
   "source": [
    "df = pd.read_csv('Pittsburgh_500m_2.csv')\n",
    "df.head(5)"
   ]
  },
  {
   "cell_type": "markdown",
   "metadata": {},
   "source": [
    "The low activity of some businesses in their particular cluster caused their Location Quotient to be marked as inf because of the computing roundup. <br>\n",
    "The trick is with the LQ equation. Here you can see the equation again. <br>\n",
    "\n"
   ]
  },
  {
   "cell_type": "markdown",
   "metadata": {},
   "source": [
    "$$LQ_{ij}=\\frac{\\frac{E_{ij}}{E_i}}{\\frac{\\sum_i E_{ij}}{\\sum_i E_i}}$$\n",
    "Where   \n",
    "$E_{ij}$ is economic activity in subarea i, department j  \n",
    "$E_i$ is total economic activity in subarea i   \n",
    "$\\sum_i E_{ij}$ is economic activity of department j in the whole area    \n",
    "$\\sum_i E_i$ is total economic activity in the whole area"
   ]
  },
  {
   "cell_type": "markdown",
   "metadata": {},
   "source": [
    "So when a business has low activity, the real value of nominator is of an order of $10^{-6}$.  That is small enough number that my computer decides that the value is so close to the zero and thus can be zero; causing division to produce infinity. This creates a problem to me since, in reality, those businesses are not the most popular, they are the least popular in the cluster.  <br>\n",
    "Therefore, I decided to replace all infinity values with the minimum value of Location Quotient. Yes, this will assign a higher value of LQ to those unpopular businesses, but in clusters that have more than four business each, such low visited businesses do not even come into future calculations. "
   ]
  },
  {
   "cell_type": "code",
   "execution_count": 7,
   "metadata": {
    "collapsed": false
   },
   "outputs": [],
   "source": [
    "i=0\n",
    "for t in df.LQ:\n",
    "    if t == np.inf:\n",
    "        df.LQ[i]=df.LQ.min()\n",
    "    i=i+1"
   ]
  },
  {
   "cell_type": "markdown",
   "metadata": {},
   "source": [
    "Let us see individual cluster."
   ]
  },
  {
   "cell_type": "code",
   "execution_count": 8,
   "metadata": {
    "collapsed": false
   },
   "outputs": [
    {
     "data": {
      "image/png": "[encoded data removed]",
      "text/plain": [
       "<matplotlib.figure.Figure at 0x10a4d5a10>"
      ]
     },
     "metadata": {},
     "output_type": "display_data"
    }
   ],
   "source": [
    "lqCluster=df[df.cluster ==1]\n",
    "plt.figure(figsize=(10, 10), dpi=100)\n",
    "df_scatter = plt.scatter(lqCluster['longitude'], lqCluster['latitude'], c='b', alpha=.5, s=lqCluster['LQ']*10)\n",
    "plt.title( 'LQ in cluster', fontsize=20)\n",
    "plt.xlabel('Longitude', fontsize=18)\n",
    "plt.ylabel('Latitude', fontsize =18)\n",
    "plt.xlim(lqCluster.longitude.min()-0.002,lqCluster.longitude.max()+0.002)\n",
    "plt.ylim(lqCluster.latitude.min()-0.002,lqCluster.latitude.max()+0.002)\n",
    "plt.show()"
   ]
  },
  {
   "cell_type": "markdown",
   "metadata": {},
   "source": [
    "## Determining the buis. enviroment\n",
    "\n",
    "\n",
    "Now is time to determine which businesses are carrying economic activity in each cluster. <br>\n",
    "I also wish to see how those categories relate to the most common category of the cluster. "
   ]
  },
  {
   "cell_type": "code",
   "execution_count": 9,
   "metadata": {
    "collapsed": false
   },
   "outputs": [],
   "source": [
    "df2=pd.DataFrame(df.cluster.unique())\n",
    "df2['BusNum']=0\n",
    "df2['topBusCat']=''\n",
    "df2['topCatNum']=0\n",
    "df2['LQmax']=0\n",
    "df2['cat1']=''\n",
    "df2['cat1num']=0\n",
    "df2['cat2']=''\n",
    "df2['cat2num']=0\n",
    "df2['cat3']=''\n",
    "df2['cat3num']=0\n",
    "df2 = df2.rename(columns={0: 'cluster'})"
   ]
  },
  {
   "cell_type": "markdown",
   "metadata": {},
   "source": [
    "Now, it is time to populate this table. <br>\n",
    "So, I am picking top business as the business that has the highest LQ in the cluster. Then, for other three categories I am counting business for each type of business, sorting them in descending order and put into the table the top 3. <br>\n",
    "Of course, in my cluster classification I have clusters that have less than four business together. In that case, all remaining business are sorted accordingly."
   ]
  },
  {
   "cell_type": "code",
   "execution_count": 15,
   "metadata": {
    "collapsed": false
   },
   "outputs": [],
   "source": [
    "import operator\n",
    "for c in df.cluster.unique():\n",
    "    pom = df[df.cluster == c]\n",
    "    large = pom.LQ.max()\n",
    "    topBus = pom.name.ix[pom.LQ == large].values[0]\n",
    "    topBusCat = pom.categories.ix[(pom.name == topBus) & (pom.LQ == large)].values[0]\n",
    "    df2.topBusCat.loc[df2.cluster == c] = topBusCat\n",
    "    df2.LQmax.loc[df2.cluster == c]=large\n",
    "    bNum=pom.name.unique()\n",
    "    df2.BusNum.loc[df2.cluster == c]=len(bNum)\n",
    "    topCatStart=[]\n",
    "    topCat = getTopCategories(topBusCat, topCatStart, pom)\n",
    "    topCatNum =pom.name[pom.categories == topBusCat].count()\n",
    "    df2.topCatNum.loc[df2.cluster ==c]=topCatNum\n",
    "    cat = pom.categories.unique()\n",
    "    Rcat = cat[np.argwhere(np.in1d(cat,np.intersect1d(cat,topCat))==False)]\n",
    "    if len(Rcat)>0:\n",
    "        sortedBusR = SortingBusinessCategories(Rcat,pom)\n",
    "        first = sortedBusR[0]\n",
    "        df2.cat1.loc[df2.cluster == c] = first[0]\n",
    "        df2.cat1num.loc[df2.cluster == c] = first[1].astype(int)\n",
    "        topCate = getTopCategories(first[0],topCat,pom)\n",
    "        Rcat = cat[np.argwhere(np.in1d(cat,np.intersect1d(cat,topCate))==False)]\n",
    "        if len(Rcat)>0:\n",
    "            sortedBusR = SortingBusinessCategories(Rcat,pom)\n",
    "            second = sortedBusR[0]\n",
    "            df2.cat2.loc[df2.cluster == c] = second[0]\n",
    "            df2.cat2num.loc[df2.cluster == c] = second[1].astype(int)\n",
    "            topCateg = getTopCategories(second[0],topCate,pom)\n",
    "            Rcat = cat[np.argwhere(np.in1d(cat,np.intersect1d(cat,topCateg))==False)]\n",
    "            if len(Rcat)>0:\n",
    "                sortedBusR = SortingBusinessCategories(Rcat,pom)\n",
    "                third = sortedBusR[0]\n",
    "                df2.cat3.loc[df2.cluster == c] = third[0]\n",
    "                df2.cat3num.loc[df2.cluster == c] = third[1].astype(int)\n",
    "\n"
   ]
  },
  {
   "cell_type": "markdown",
   "metadata": {},
   "source": [
    "And resulting table looks like:"
   ]
  },
  {
   "cell_type": "code",
   "execution_count": 16,
   "metadata": {
    "collapsed": false
   },
   "outputs": [
    {
     "data": {
      "text/html": [
       "<div style=\"max-height:1000px;max-width:1500px;overflow:auto;\">\n",
       "<table border=\"1\" class=\"dataframe\">\n",
       "  <thead>\n",
       "    <tr style=\"text-align: right;\">\n",
       "      <th></th>\n",
       "      <th>cluster</th>\n",
       "      <th>BusNum</th>\n",
       "      <th>topBusCat</th>\n",
       "      <th>topCatNum</th>\n",
       "      <th>LQmax</th>\n",
       "      <th>cat1</th>\n",
       "      <th>cat1num</th>\n",
       "      <th>cat2</th>\n",
       "      <th>cat2num</th>\n",
       "      <th>cat3</th>\n",
       "      <th>cat3num</th>\n",
       "    </tr>\n",
       "  </thead>\n",
       "  <tbody>\n",
       "    <tr>\n",
       "      <th>0</th>\n",
       "      <td>0</td>\n",
       "      <td>28</td>\n",
       "      <td>Hot Dogs</td>\n",
       "      <td>1</td>\n",
       "      <td>19.280457</td>\n",
       "      <td>Food</td>\n",
       "      <td>6</td>\n",
       "      <td>Thai</td>\n",
       "      <td>3</td>\n",
       "      <td>Shopping</td>\n",
       "      <td>2</td>\n",
       "    </tr>\n",
       "    <tr>\n",
       "      <th>1</th>\n",
       "      <td>224</td>\n",
       "      <td>3</td>\n",
       "      <td>Golf</td>\n",
       "      <td>2</td>\n",
       "      <td>3091.042857</td>\n",
       "      <td>Restaurants</td>\n",
       "      <td>1</td>\n",
       "      <td></td>\n",
       "      <td>0</td>\n",
       "      <td></td>\n",
       "      <td>0</td>\n",
       "    </tr>\n",
       "    <tr>\n",
       "      <th>2</th>\n",
       "      <td>207</td>\n",
       "      <td>1</td>\n",
       "      <td>Internet Service Providers</td>\n",
       "      <td>1</td>\n",
       "      <td>1639.189394</td>\n",
       "      <td></td>\n",
       "      <td>0</td>\n",
       "      <td></td>\n",
       "      <td>0</td>\n",
       "      <td></td>\n",
       "      <td>0</td>\n",
       "    </tr>\n",
       "    <tr>\n",
       "      <th>3</th>\n",
       "      <td>157</td>\n",
       "      <td>1</td>\n",
       "      <td>Lounges</td>\n",
       "      <td>1</td>\n",
       "      <td>57.469588</td>\n",
       "      <td></td>\n",
       "      <td>0</td>\n",
       "      <td></td>\n",
       "      <td>0</td>\n",
       "      <td></td>\n",
       "      <td>0</td>\n",
       "    </tr>\n",
       "    <tr>\n",
       "      <th>4</th>\n",
       "      <td>234</td>\n",
       "      <td>3</td>\n",
       "      <td>Mexican</td>\n",
       "      <td>1</td>\n",
       "      <td>12.990967</td>\n",
       "      <td>Bars</td>\n",
       "      <td>1</td>\n",
       "      <td>Event Planning &amp; Services</td>\n",
       "      <td>1</td>\n",
       "      <td></td>\n",
       "      <td>0</td>\n",
       "    </tr>\n",
       "  </tbody>\n",
       "</table>\n",
       "</div>"
      ],
      "text/plain": [
       "   cluster  BusNum                   topBusCat  topCatNum        LQmax  \\\n",
       "0        0      28                    Hot Dogs          1    19.280457   \n",
       "1      224       3                        Golf          2  3091.042857   \n",
       "2      207       1  Internet Service Providers          1  1639.189394   \n",
       "3      157       1                     Lounges          1    57.469588   \n",
       "4      234       3                     Mexican          1    12.990967   \n",
       "\n",
       "          cat1  cat1num                       cat2  cat2num      cat3  cat3num  \n",
       "0         Food        6                       Thai        3  Shopping        2  \n",
       "1  Restaurants        1                                   0                  0  \n",
       "2                     0                                   0                  0  \n",
       "3                     0                                   0                  0  \n",
       "4         Bars        1  Event Planning & Services        1                  0  "
      ]
     },
     "execution_count": 16,
     "metadata": {},
     "output_type": "execute_result"
    }
   ],
   "source": [
    "df2.head(5)"
   ]
  },
  {
   "cell_type": "markdown",
   "metadata": {},
   "source": [
    "In next step I'll use:\n",
    "\n",
    "\n",
    "##Kendall tau rank correlation coefficient\n",
    "\n",
    "In statistics, the Kendall rank correlation coefficient, commonly referred to as Kendall's tau ($\\tau$) coefficient, is a statistic used to measure the association between two measured quantities. A tau test is a non-parametric hypothesis test for statistical dependence based on the tau coefficient.    \n",
    "\n",
    "It is a measure of rank correlation: the similarity of the orderings of the data when ranked by each of the quantities.   \n",
    "\n",
    "Let $(x_1, y_1), (x_2, y_2)$, …, $(x_n, y_n)$ be a set of observations of the joint random variables X and Y respectively, such that all the values of $(x_i)$ and $(y_i)$ are unique. Any pair of observations $(x_i, y_i)$ and $(x_j, y_j)$ are said to be concordant if the ranks for both elements agree: that is, if both $x_i > x_j$ and $y_i > y_j$ or if both $x_i < x_j$ and $y_i < y_j$. They are said to be discordant, if $x_i > x_j$ and $y_i < y_j$ or if $x_i < x_j$ and $y_i > y_j$. If $x_i = x_j$ or $y_i = y_j$, the pair is neither concordant nor discordant.\n",
    "\n",
    "The Kendall $\\tau$ coefficient is defined as:\n",
    "\n",
    "$$\\tau = \\frac{(\\text{number of concordant pairs}) - (\\text{number of discordant pairs})}{\\frac{1}{2} n (n-1) }$$\n",
    "\n",
    "The coefficient range is $−1 ≤ \\tau ≤ 1$.\n",
    "\n",
    "-If the agreement between the two rankings is perfect (i.e., the two rankings are the same) the coefficient has value 1.   \n",
    "-If the disagreement between the two rankings is perfect (i.e., one ranking is the reverse of the other) the coefficient has value −1.   \n",
    "-If X and Y are independent, then we would expect the coefficient to be approximately zero.   \n",
    "\n",
    "To get a decent sample, only business categories that existed in more than 4 different clusters are taken into consideration. For each of them Kendall Tau coefficient is calculated. "
   ]
  },
  {
   "cell_type": "code",
   "execution_count": 19,
   "metadata": {
    "collapsed": false
   },
   "outputs": [
    {
     "name": "stdout",
     "output_type": "stream",
     "text": [
      "Pizza nan nan\n",
      "Diners -0.387298334621 0.275092389408\n",
      "Italian 0.0 1.0\n"
     ]
    }
   ],
   "source": [
    "from scipy.stats import kendalltau\n",
    "topCategories = df2.topBusCat.unique()\n",
    "Tbus = {}\n",
    "for rc in topCategories:\n",
    "    Tbus.update({rc: df2.cluster[df2.topBusCat == rc].count()})\n",
    "sortedCat = sorted(Tbus.items(), key=operator.itemgetter(1), reverse=True)\n",
    "cou=0.\n",
    "for s in sortedCat:\n",
    "    if s[1]>4:\n",
    "        df3=df2[df2.topBusCat == s[0]]\n",
    "        result=df3.LQmax.tolist()\n",
    "        parameter = df3.cat1.tolist()\n",
    "        cou+=1.\n",
    "        KT = kendalltau(parameter, result)\n",
    "        sida=1.-(1.-KT[1])**cou #make Sidak correction.\n",
    "        if sida<0.1:\n",
    "            print s[0], KT[0], KT[1], 'Sidak correction:', sida\n",
    "        print s[0], KT[0], KT[1]"
   ]
  },
  {
   "cell_type": "markdown",
   "metadata": {},
   "source": [
    "Not a single one has positive KT correlation. Meaning each and every top business is in disagreement with second category business in cluster. <br>\n",
    "I am speculating, maybe other business drag customers away from the top business. "
   ]
  },
  {
   "cell_type": "markdown",
   "metadata": {},
   "source": [
    "I used multiple comparisons, so that needs to be corrected. I used a method called:  \n",
    "\n",
    "##Sidak correction\n",
    "\n",
    "It is a simple method to control the familywise error rate that is probabilistically exact when the individual tests are independent of each other but is conservative otherwise.  \n",
    "The test is used if the test statistics are independent of each other then testing each of m hypotheses at level  $$\\alpha_{SID} = 1-(1-\\alpha)^\\frac{1}{m}$$  is Sidak's multiple testing procedure.   \n",
    "This test is more powerful than Bonferroni, but the gain is small: for  $\\alpha_{SID}  = 0.05$  and $m= 10$ and $10^{12}$, Bonferroni vs Sidak give 0.005 and 5 $10^{-14}$ vs 0.005116 and $5.129 10^{-14}$, respectively. The main merit of the correction is that it is exact probabilistically when the tests are independent of each other. Bonferroni is an easier approximate way to calculate the Sidak correction.    \n",
    "\n",
    "The Šidák correction is derived by assuming that the individual tests are independent. Let the significance threshold for each test be $\\alpha_1$; then the probability that at least one of the tests is significant under this threshold is (1 - the probability that none of them is significant). Since it is assumed that they are independent, the probability that all of them are not significant is the product of the probabilities that each of them are not significant, or $1 - (1 - \\alpha_1)^n$. Our intention is for this probability to equal \\alpha, the significance level for the entire series of tests. By solving for $\\alpha_1$, we obtain $\\alpha_1 = 1 - (1 - \\alpha)^{1/n}$."
   ]
  },
  {
   "cell_type": "markdown",
   "metadata": {},
   "source": [
    "## Validation\n",
    "\n",
    "I'll try brute force validation, calculating KT between randomly selected second category business and randomly selected values of LQ of the top business. I'll select across all clusters. "
   ]
  },
  {
   "cell_type": "code",
   "execution_count": 20,
   "metadata": {
    "collapsed": false
   },
   "outputs": [
    {
     "name": "stdout",
     "output_type": "stream",
     "text": [
      "-0.0591868855927 0.408715533095\n"
     ]
    }
   ],
   "source": [
    "import random\n",
    "category = random.sample(df2.cat1,90)\n",
    "LQrandom = random.sample(df2.LQmax,90)\n",
    "KT = kendalltau(category, LQrandom)\n",
    "print  KT[0], KT[1]\n"
   ]
  },
  {
   "cell_type": "markdown",
   "metadata": {},
   "source": [
    "So I got KT close to 0 with quite nasty *p* value. I would say there is no correlation here. With such *p* this is still random. <br>\n",
    "In conclusion, seems that Top businesses of any cluster should fare better if they are alone. "
   ]
  },
  {
   "cell_type": "markdown",
   "metadata": {},
   "source": [
    "###Helper functions"
   ]
  },
  {
   "cell_type": "code",
   "execution_count": 11,
   "metadata": {
    "collapsed": false
   },
   "outputs": [],
   "source": [
    "def getTopCategories(newcat,listCat,pomDF):\n",
    "    busi= pomDF.name.ix[pomDF.categories == newcat].values\n",
    "    if len(busi)>0:\n",
    "        for b in busi:\n",
    "            rcat = pom.categories.ix[pom.name == b].values\n",
    "            if len(rcat)>0:\n",
    "                for t in rcat:\n",
    "                    if t in listCat:\n",
    "                        pass\n",
    "                    else:\n",
    "                        listCat.append(t)\n",
    "    return listCat"
   ]
  },
  {
   "cell_type": "code",
   "execution_count": 12,
   "metadata": {
    "collapsed": true
   },
   "outputs": [],
   "source": [
    "def SortingBusinessCategories(categ,pomDF):\n",
    "    busR = {}\n",
    "    for rc in categ:\n",
    "        rcat=rc.flatten().tolist()[0]\n",
    "        busR.update({rcat: pomDF.name[pomDF.categories == rcat].count()})\n",
    "    sortedBus = sorted(busR.items(), key=operator.itemgetter(1), reverse=True)\n",
    "    return sortedBus"
   ]
  },
  {
   "cell_type": "code",
   "execution_count": 13,
   "metadata": {
    "collapsed": true
   },
   "outputs": [],
   "source": [
    "def getCategoryStats(pomDF, categ):\n",
    "    RcatList= arrayToList(categ)\n",
    "    pom2 = pomDF.loc[pomDF['categories'].isin(RcatList)]\n",
    "    Large = pom2.LQ.max()\n",
    "    Bus = pom2.name.ix[pom2.LQ == Large].values[0]\n",
    "    BusCat = pom2.categories.ix[(pom2.name == Bus) & (pom2.LQ == Large)].values[0]\n",
    "    CatNum = pom2.name[pom2.categories == BusCat].count()\n",
    "    answer=[]\n",
    "    answer.append(Large)\n",
    "    answer.append(BusCat)\n",
    "    answer.append(CatNum)\n",
    "    return answer"
   ]
  },
  {
   "cell_type": "code",
   "execution_count": 14,
   "metadata": {
    "collapsed": true
   },
   "outputs": [],
   "source": [
    "def arrayToList(array):\n",
    "    i=0\n",
    "    newlist=[]\n",
    "    for r in array:\n",
    "        if type(r)==np.ndarray:\n",
    "            st=r[0]\n",
    "            newlist.append(st)\n",
    "    return newlist"
   ]
  },
  {
   "cell_type": "markdown",
   "metadata": {
    "collapsed": true
   },
   "source": [
    "## Performing analysis for some other business in the cluster\n",
    "\n",
    "However, I cannot answer the question where to put stand-alone business, not with just Yelp data. To answer that question, I would need an additional data source. <br>\n",
    "The question I can answer is can some business play well together. <br>\n",
    "So, now, I'll concentrate on business that cluster around top business. "
   ]
  },
  {
   "cell_type": "markdown",
   "metadata": {},
   "source": [
    "I'll pick experimental category and run with it."
   ]
  },
  {
   "cell_type": "code",
   "execution_count": 56,
   "metadata": {
    "collapsed": false
   },
   "outputs": [
    {
     "name": "stdout",
     "output_type": "stream",
     "text": [
      "yeah\n"
     ]
    }
   ],
   "source": [
    "#print df.categories.unique()\n",
    "targetCategory ='Grocery'#'Cafes'#'Used'#'Pets'#'Comic Books'#\"Bookstores\" # \"Taxis\" #\"Rugs\"#\"Coffee & Tea\"#\n",
    "if targetCategory in df.categories.unique():\n",
    "    print 'yeah'"
   ]
  },
  {
   "cell_type": "markdown",
   "metadata": {},
   "source": [
    "OK, so there is something connected with Coffee. <br>\n",
    "Next step let us see how many clusters have this category."
   ]
  },
  {
   "cell_type": "code",
   "execution_count": 57,
   "metadata": {
    "collapsed": false
   },
   "outputs": [
    {
     "name": "stdout",
     "output_type": "stream",
     "text": [
      "29\n"
     ]
    }
   ],
   "source": [
    "pom=df[df['categories']== targetCategory]\n",
    "pom2=pom.cluster.unique().tolist()\n",
    "#print pom2\n",
    "clustersDF = df.loc[df['cluster'].isin(pom2)]\n",
    "targetCategoryClusters=clustersDF.cluster.unique()\n",
    "print len(targetCategoryClusters)\n",
    "#print clustersDF.cluster.unique()"
   ]
  },
  {
   "cell_type": "raw",
   "metadata": {},
   "source": [
    "Here we have only 41 cluster.  \n",
    "Next step is to determine the top four businesses in each category and get LQ of targeted category for each cluster.  "
   ]
  },
  {
   "cell_type": "code",
   "execution_count": 58,
   "metadata": {
    "collapsed": false
   },
   "outputs": [],
   "source": [
    "df3=pd.DataFrame(df.cluster.unique())\n",
    "df3['BusNum']=0\n",
    "df3['topBusCat']=''\n",
    "df3['topCatNum']=0\n",
    "df3['LQmax']=0\n",
    "df3['cat1']=''\n",
    "df3['LQ2']=0\n",
    "df3['cat1num']=0\n",
    "df3['cat2']=''\n",
    "df3['LQ3']=0\n",
    "df3['cat2num']=0\n",
    "df3['cat3']=''\n",
    "df3['LQ4']=0\n",
    "df3['cat3num']=0\n",
    "df3['targetLQ']=0\n",
    "df3 = df3.rename(columns={0: 'cluster'})"
   ]
  },
  {
   "cell_type": "code",
   "execution_count": 59,
   "metadata": {
    "collapsed": false
   },
   "outputs": [
    {
     "name": "stderr",
     "output_type": "stream",
     "text": [
      "/Users/Lexa/anaconda/lib/python2.7/site-packages/IPython/kernel/__main__.py:22: SettingWithCopyWarning: \n",
      "A value is trying to be set on a copy of a slice from a DataFrame\n",
      "\n",
      "See the the caveats in the documentation: http://pandas.pydata.org/pandas-docs/stable/indexing.html#indexing-view-versus-copy\n",
      "/Users/Lexa/anaconda/lib/python2.7/site-packages/IPython/kernel/__main__.py:29: SettingWithCopyWarning: \n",
      "A value is trying to be set on a copy of a slice from a DataFrame\n",
      "\n",
      "See the the caveats in the documentation: http://pandas.pydata.org/pandas-docs/stable/indexing.html#indexing-view-versus-copy\n",
      "/Users/Lexa/anaconda/lib/python2.7/site-packages/IPython/kernel/__main__.py:36: SettingWithCopyWarning: \n",
      "A value is trying to be set on a copy of a slice from a DataFrame\n",
      "\n",
      "See the the caveats in the documentation: http://pandas.pydata.org/pandas-docs/stable/indexing.html#indexing-view-versus-copy\n"
     ]
    },
    {
     "data": {
      "text/html": [
       "<div style=\"max-height:1000px;max-width:1500px;overflow:auto;\">\n",
       "<table border=\"1\" class=\"dataframe\">\n",
       "  <thead>\n",
       "    <tr style=\"text-align: right;\">\n",
       "      <th></th>\n",
       "      <th>cluster</th>\n",
       "      <th>BusNum</th>\n",
       "      <th>topBusCat</th>\n",
       "      <th>topCatNum</th>\n",
       "      <th>LQmax</th>\n",
       "      <th>cat1</th>\n",
       "      <th>LQ2</th>\n",
       "      <th>cat1num</th>\n",
       "      <th>cat2</th>\n",
       "      <th>LQ3</th>\n",
       "      <th>cat2num</th>\n",
       "      <th>cat3</th>\n",
       "      <th>LQ4</th>\n",
       "      <th>cat3num</th>\n",
       "      <th>targetLQ</th>\n",
       "    </tr>\n",
       "  </thead>\n",
       "  <tbody>\n",
       "    <tr>\n",
       "      <th>0</th>\n",
       "      <td>0</td>\n",
       "      <td>0</td>\n",
       "      <td></td>\n",
       "      <td>0</td>\n",
       "      <td>0</td>\n",
       "      <td></td>\n",
       "      <td>0</td>\n",
       "      <td>0</td>\n",
       "      <td></td>\n",
       "      <td>0</td>\n",
       "      <td>0</td>\n",
       "      <td></td>\n",
       "      <td>0</td>\n",
       "      <td>0</td>\n",
       "      <td>0</td>\n",
       "    </tr>\n",
       "    <tr>\n",
       "      <th>1</th>\n",
       "      <td>224</td>\n",
       "      <td>0</td>\n",
       "      <td></td>\n",
       "      <td>0</td>\n",
       "      <td>0</td>\n",
       "      <td></td>\n",
       "      <td>0</td>\n",
       "      <td>0</td>\n",
       "      <td></td>\n",
       "      <td>0</td>\n",
       "      <td>0</td>\n",
       "      <td></td>\n",
       "      <td>0</td>\n",
       "      <td>0</td>\n",
       "      <td>0</td>\n",
       "    </tr>\n",
       "    <tr>\n",
       "      <th>2</th>\n",
       "      <td>207</td>\n",
       "      <td>0</td>\n",
       "      <td></td>\n",
       "      <td>0</td>\n",
       "      <td>0</td>\n",
       "      <td></td>\n",
       "      <td>0</td>\n",
       "      <td>0</td>\n",
       "      <td></td>\n",
       "      <td>0</td>\n",
       "      <td>0</td>\n",
       "      <td></td>\n",
       "      <td>0</td>\n",
       "      <td>0</td>\n",
       "      <td>0</td>\n",
       "    </tr>\n",
       "    <tr>\n",
       "      <th>3</th>\n",
       "      <td>157</td>\n",
       "      <td>0</td>\n",
       "      <td></td>\n",
       "      <td>0</td>\n",
       "      <td>0</td>\n",
       "      <td></td>\n",
       "      <td>0</td>\n",
       "      <td>0</td>\n",
       "      <td></td>\n",
       "      <td>0</td>\n",
       "      <td>0</td>\n",
       "      <td></td>\n",
       "      <td>0</td>\n",
       "      <td>0</td>\n",
       "      <td>0</td>\n",
       "    </tr>\n",
       "    <tr>\n",
       "      <th>4</th>\n",
       "      <td>234</td>\n",
       "      <td>0</td>\n",
       "      <td></td>\n",
       "      <td>0</td>\n",
       "      <td>0</td>\n",
       "      <td></td>\n",
       "      <td>0</td>\n",
       "      <td>0</td>\n",
       "      <td></td>\n",
       "      <td>0</td>\n",
       "      <td>0</td>\n",
       "      <td></td>\n",
       "      <td>0</td>\n",
       "      <td>0</td>\n",
       "      <td>0</td>\n",
       "    </tr>\n",
       "  </tbody>\n",
       "</table>\n",
       "</div>"
      ],
      "text/plain": [
       "   cluster  BusNum topBusCat  topCatNum  LQmax cat1  LQ2  cat1num cat2  LQ3  \\\n",
       "0        0       0                    0      0         0        0         0   \n",
       "1      224       0                    0      0         0        0         0   \n",
       "2      207       0                    0      0         0        0         0   \n",
       "3      157       0                    0      0         0        0         0   \n",
       "4      234       0                    0      0         0        0         0   \n",
       "\n",
       "   cat2num cat3  LQ4  cat3num  targetLQ  \n",
       "0        0         0        0         0  \n",
       "1        0         0        0         0  \n",
       "2        0         0        0         0  \n",
       "3        0         0        0         0  \n",
       "4        0         0        0         0  "
      ]
     },
     "execution_count": 59,
     "metadata": {},
     "output_type": "execute_result"
    }
   ],
   "source": [
    "import operator\n",
    "for c in clustersDF.cluster.unique():\n",
    "    pom = clustersDF[clustersDF.cluster == c]\n",
    "    large = pom.LQ.max()\n",
    "    topBus = pom.name.ix[pom.LQ == large].values[0]\n",
    "    topBusCat = pom.categories.ix[(pom.name == topBus) & (pom.LQ == large)].values[0]\n",
    "    df3.topBusCat.loc[df3.cluster == c] = topBusCat\n",
    "    df3.LQmax.loc[df3.cluster == c]=large\n",
    "    bNum=pom.name.unique()\n",
    "    df3.BusNum.loc[df3.cluster == c]=len(bNum)\n",
    "    topCatStart=[]\n",
    "    topCat = getTopCategories(topBusCat, topCatStart, pom)\n",
    "    topCatNum =pom.name[pom.categories == topBusCat].count()\n",
    "    df3.topCatNum.loc[df3.cluster ==c]=topCatNum\n",
    "    df3.targetLQ.loc[df3.cluster ==c]=pom.LQ[(pom.categories == targetCategory) & (pom.name != topBus)].max()\n",
    "    cat = pom.categories.unique()\n",
    "    Rcat = cat[np.argwhere(np.in1d(cat,np.intersect1d(cat,topCat))==False)]\n",
    "    if len(Rcat)>0:\n",
    "        ans=getCategoryStats(pom,Rcat)\n",
    "        df3.cat1.loc[df3.cluster == c] = ans[1]\n",
    "        df3.cat1num.loc[df3.cluster == c] = ans[2]\n",
    "        df3.LQ2[df3.cluster == c] = ans[0]\n",
    "        topCate = getTopCategories(ans[1], topCat, pom)\n",
    "        Rcat1 = cat[np.argwhere(np.in1d(cat,np.intersect1d(cat,topCate))==False)]\n",
    "        if len(Rcat1)>0:\n",
    "            ans2=getCategoryStats(pom,Rcat1)\n",
    "            df3.cat2.loc[df3.cluster == c] = ans2[1]\n",
    "            df3.cat2num.loc[df3.cluster == c] = ans2[2]\n",
    "            df3.LQ3[df3.cluster == c] = ans2[0]\n",
    "            topCateg = getTopCategories(ans2[1], topCate, pom)\n",
    "            Rcat2 = cat[np.argwhere(np.in1d(cat,np.intersect1d(cat,topCateg))==False)]\n",
    "            if len(Rcat2)>0:\n",
    "                ans3=getCategoryStats(pom,Rcat2)\n",
    "                df3.cat3.loc[df3.cluster == c] = ans3[1]\n",
    "                df3.cat3num.loc[df3.cluster == c] = ans3[2]\n",
    "                df3.LQ4[df3.cluster == c] = ans3[0]\n",
    "df3.head(5)        "
   ]
  },
  {
   "cell_type": "markdown",
   "metadata": {},
   "source": [
    "Let us determine is our category in one of the 4 four here. If it is, then we can proceed with the analysis. "
   ]
  },
  {
   "cell_type": "code",
   "execution_count": 60,
   "metadata": {
    "collapsed": false
   },
   "outputs": [
    {
     "name": "stdout",
     "output_type": "stream",
     "text": [
      "yeah\n"
     ]
    }
   ],
   "source": [
    "allCatIndf3=df3.topBusCat.unique().tolist()+df3.cat1.unique().tolist()+df3.cat2.unique().tolist()+df3.cat3.unique().tolist()\n",
    "uniqCatDF3= set(allCatIndf3)\n",
    "if targetCategory in df.categories.unique():\n",
    "    print 'yeah'"
   ]
  },
  {
   "cell_type": "markdown",
   "metadata": {},
   "source": [
    "The goal is to find business that preform well. When business is in one off the four most popular in the cluster, it si more probable that I will find a positive influence in that cluster. Taking all clusters with targeted business in consideration will drown the signal with the noise. "
   ]
  },
  {
   "cell_type": "code",
   "execution_count": 61,
   "metadata": {
    "collapsed": false
   },
   "outputs": [
    {
     "name": "stdout",
     "output_type": "stream",
     "text": [
      "['Grocery', 'Thrift Stores', 'Middle Eastern']\n"
     ]
    }
   ],
   "source": [
    "import operator\n",
    "from scipy.stats import kendalltau\n",
    "par=[]\n",
    "for c in df3.topBusCat.unique():\n",
    "    if c == targetCategory:\n",
    "        par.append(df3.topBusCat[df3['topBusCat']==c].tolist()[0])\n",
    "for c in df3.cat1.unique():\n",
    "    if c == targetCategory:\n",
    "        par.append(df3.topBusCat[df3['cat1']==c].tolist()[0])\n",
    "for c in df3.cat2.unique():\n",
    "    if c == targetCategory:\n",
    "        par.append(df3.topBusCat[df3['cat2']==c].tolist()[0])\n",
    "for c in df3.cat3.unique():\n",
    "    if c == targetCategory:\n",
    "        par.append(df3.topBusCat[df3['cat3']==c].tolist()[0])\n",
    "print par"
   ]
  },
  {
   "cell_type": "markdown",
   "metadata": {},
   "source": [
    "Now with these categories, we'll find clusters where there are target category and one of the listed categories and tests with Spearman correlation how they influence coffee shops. \n",
    "\n",
    "#Spearman's rank correlation coefficient\n",
    "\n",
    "It is often denoted by the Greek letter $\\rho$ (rho) or as $r_s$, is a nonparametric measure of statistical dependence between two variables. It assesses how well the relationship between two variables can be described using a monotonic function. If there are no repeated data values, a perfect Spearman correlation of +1 or −1 occurs when each of the variables is a perfect monotone function of the other.\n",
    "\n",
    "Spearman's coefficient, like any correlation calculation, is appropriate for both continuous and discrete variables, including ordinal variables. Spearman's $\\rho$ and Kendall's $\\tau$ can be formulated as special cases of a more a general correlation coefficient.  \n",
    "\n",
    "The Spearman correlation coefficient is defined as the Pearson correlation coefficient between the ranked variables.For a sample of size n, the n raw scores $X_i$, $Y_i$ are converted to ranks $x_i$, $y_i$, and $\\rho$ is computed from:\n",
    "\n",
    " $$\\rho = {1- \\frac {6 \\sum d_i^2}{n(n^2 - 1)}}$$\n",
    "where $d_i = x_i - y_i$, is the difference between ranks.\n",
    "\n",
    "And for those who do not know:\n",
    "\n",
    "##Pearson product-moment correlation coefficient\n",
    "\n",
    "The Pearson product-moment correlation coefficient (sometimes referred to as the PPMCC or PCC or Pearson's r) is a measure of the linear correlation (dependence) between two variables X and Y, giving a value between +1 and −1 inclusive, where 1 is total positive correlation, 0 is no correlation, and −1 is total negative correlation. It is widely used in the sciences as a measure of the degree of linear dependence between two variables.   \n",
    "Pearson's correlation coefficient is the covariance of the two variables divided by the product of their standard deviations. The form of the definition involves a \"product moment\", that is, the mean (the first moment about the origin) of the product of the mean-adjusted random variables; hence the modifier product-moment in the name.   \n",
    "Pearson's correlation coefficient when applied to a population is commonly represented by the Greek letter $\\rho$ (rho) and may be referred to as the population correlation coefficient or the population Pearson correlation coefficient. The formula is:\n",
    "\n",
    " $$\\rho_{X,Y}= \\frac{\\operatorname{cov}(X,Y)}{\\sigma_X \\sigma_Y} $$\n",
    "where:    \n",
    " $\\operatorname{cov}$  is the covariance    \n",
    " $\\sigma_X$  is the standard deviation of  X "
   ]
  },
  {
   "cell_type": "code",
   "execution_count": 62,
   "metadata": {
    "collapsed": false
   },
   "outputs": [],
   "source": [
    "resul=pd.DataFrame(range(100))\n",
    "resul['category']=''\n",
    "resul['Spearman']=0.\n",
    "resul['P']=0.\n",
    "resul['sidak']=0."
   ]
  },
  {
   "cell_type": "code",
   "execution_count": 63,
   "metadata": {
    "collapsed": false
   },
   "outputs": [
    {
     "name": "stderr",
     "output_type": "stream",
     "text": [
      "/Users/Lexa/anaconda/lib/python2.7/site-packages/IPython/kernel/__main__.py:17: SettingWithCopyWarning: \n",
      "A value is trying to be set on a copy of a slice from a DataFrame\n",
      "\n",
      "See the the caveats in the documentation: http://pandas.pydata.org/pandas-docs/stable/indexing.html#indexing-view-versus-copy\n",
      "/Users/Lexa/anaconda/lib/python2.7/site-packages/IPython/kernel/__main__.py:18: SettingWithCopyWarning: \n",
      "A value is trying to be set on a copy of a slice from a DataFrame\n",
      "\n",
      "See the the caveats in the documentation: http://pandas.pydata.org/pandas-docs/stable/indexing.html#indexing-view-versus-copy\n",
      "/Users/Lexa/anaconda/lib/python2.7/site-packages/IPython/kernel/__main__.py:19: SettingWithCopyWarning: \n",
      "A value is trying to be set on a copy of a slice from a DataFrame\n",
      "\n",
      "See the the caveats in the documentation: http://pandas.pydata.org/pandas-docs/stable/indexing.html#indexing-view-versus-copy\n"
     ]
    },
    {
     "name": "stdout",
     "output_type": "stream",
     "text": [
      "Grocery -> 1.0 p= 0.0 Sidak correction: 0.0\n",
      "Thrift Stores -> 0.828571428571 p= 0.0415626822157 Sidak correction: 0.119577474716\n",
      "Middle Eastern -> 0.885714285714 p= 0.0188454810496 Sidak correction: 0.0554776796939\n"
     ]
    },
    {
     "name": "stderr",
     "output_type": "stream",
     "text": [
      "/Users/Lexa/anaconda/lib/python2.7/site-packages/IPython/kernel/__main__.py:20: SettingWithCopyWarning: \n",
      "A value is trying to be set on a copy of a slice from a DataFrame\n",
      "\n",
      "See the the caveats in the documentation: http://pandas.pydata.org/pandas-docs/stable/indexing.html#indexing-view-versus-copy\n"
     ]
    }
   ],
   "source": [
    "import operator\n",
    "from scipy.stats import spearmanr\n",
    "i=0\n",
    "for ca in par:\n",
    "    tarClustDF=clustersDF[clustersDF['categories']==ca]\n",
    "    pomList=tarClustDF.cluster.unique().tolist()\n",
    "    clustersDF2 = clustersDF.loc[clustersDF['cluster'].isin(pomList)]\n",
    "    if len(tarClustDF)>5:\n",
    "        para=[]\n",
    "        resu=[]\n",
    "        for c in pomList:\n",
    "            para.append(clustersDF2.LQ[(clustersDF2['categories']==ca) & (clustersDF2['cluster']==c) ].max())\n",
    "            resu.append(clustersDF2.LQ[(clustersDF2['categories']==targetCategory) & (clustersDF2['cluster']==c)].max())\n",
    "        cou=len(par)\n",
    "        spear=spearmanr(para,resu)\n",
    "        sida=1.-(1.-spear[1])**cou\n",
    "        resul.category[i]=ca\n",
    "        resul.Spearman[i]=spear[0]\n",
    "        resul.P[i]=spear[1]\n",
    "        resul.sidak[i]=sida\n",
    "        i+=1\n",
    "        print ca, '->', spear[0],'p=',spear[1],'Sidak correction:', sida  "
   ]
  },
  {
   "cell_type": "code",
   "execution_count": 64,
   "metadata": {
    "collapsed": false
   },
   "outputs": [],
   "source": [
    "result=resul[resul['sidak'] < 0.1]"
   ]
  },
  {
   "cell_type": "markdown",
   "metadata": {},
   "source": [
    "###Validation\n",
    "\n",
    "Using the same random pick of the categories"
   ]
  },
  {
   "cell_type": "code",
   "execution_count": 65,
   "metadata": {
    "collapsed": false
   },
   "outputs": [
    {
     "name": "stdout",
     "output_type": "stream",
     "text": [
      "-0.246428571429 0.375950515974\n"
     ]
    }
   ],
   "source": [
    "import random\n",
    "category = random.sample(df.LQ,15)\n",
    "LQrandom = random.sample(df.LQ, 15)\n",
    "spear = spearmanr(category, LQrandom)\n",
    "print  spear[0], spear[1]"
   ]
  },
  {
   "cell_type": "markdown",
   "metadata": {},
   "source": [
    "Shows there is no correlation between randomly chosen categories"
   ]
  },
  {
   "cell_type": "markdown",
   "metadata": {},
   "source": [
    "##let's make a map\n",
    "\n",
    "First we need to sort out which Spearman coefficient is significant, larger than 0.5 and then sort which one is negative and which one is positive."
   ]
  },
  {
   "cell_type": "code",
   "execution_count": 66,
   "metadata": {
    "collapsed": false
   },
   "outputs": [],
   "source": [
    "negCat=result.category[result['Spearman']<-0.5].tolist()\n",
    "posCat=result.category[result['Spearman']>0.5].tolist()"
   ]
  },
  {
   "cell_type": "markdown",
   "metadata": {},
   "source": [
    "Then we have to get clusters that have a positive influence business and do not have negative influence business. <br>\n",
    "In case that one of the categories is empty, it is skipped. The rest of the clusters are treated as neutral. Meaning, there,  a personal performance of a business, together with unaccounted for factors will have the greatest influence. "
   ]
  },
  {
   "cell_type": "code",
   "execution_count": 67,
   "metadata": {
    "collapsed": false
   },
   "outputs": [],
   "source": [
    "allClust=df.cluster.unique()\n",
    "goodList=[]\n",
    "neutralList=[]\n",
    "if len(posCat)>0:\n",
    "    goodf= df.loc[df['categories'].isin(posCat)]\n",
    "    good=goodf.cluster.unique()#.tolist()\n",
    "    withGood =allClust[np.argwhere(np.in1d(allClust,np.intersect1d(allClust,good))==True)]\n",
    "    goodList=arrayToList(withGood)\n",
    "\n",
    "if len(negCat)>0:\n",
    "    badf= df.loc[df['categories'].isin(negCat)]\n",
    "    bad=badf.cluster.unique()#.tolist()\n",
    "    withoutBad = allClust[np.argwhere(np.in1d(allClust,np.intersect1d(allClust,bad))==False)]\n",
    "    neutralList=arrayToList(withoutBad)"
   ]
  },
  {
   "cell_type": "markdown",
   "metadata": {},
   "source": [
    "Now we get coordinates for the good and neutral clusters."
   ]
  },
  {
   "cell_type": "code",
   "execution_count": 68,
   "metadata": {
    "collapsed": false
   },
   "outputs": [],
   "source": [
    "if (len(goodList)==0) & (len(neutralList)==0):\n",
    "    print 'No good places for business. Try put it as stand alone business.'\n",
    "if len(goodList)>0:\n",
    "    coordGood = pd.DataFrame(goodList)\n",
    "    coordGood = coordGood.rename(columns={0: 'cluster'})\n",
    "    coordGood['lati']=0\n",
    "    coordGood['longi']=0\n",
    "    coordGood['ratioNbus']=0\n",
    "    coordGood['LQmean']=0\n",
    "    coordGood['scale']=0\n",
    "if len(neutralList)>1:\n",
    "    coordNeutral = pd.DataFrame(neutralList)\n",
    "    coordNeutral = coordNeutral.rename(columns={0: 'cluster'})\n",
    "    coordNeutral['lati']=0\n",
    "    coordNeutral['longi']=0\n",
    "    coordNeutral['ratioNbus']=0\n",
    "    coordNeutral['LQmean']=0\n",
    "    coordNeutral['scale']=0"
   ]
  },
  {
   "cell_type": "code",
   "execution_count": 69,
   "metadata": {
    "collapsed": false
   },
   "outputs": [],
   "source": [
    "from __future__ import division\n",
    "if len(goodList)>0:\n",
    "    for c in goodList:\n",
    "        pom4= df[df.cluster == c]\n",
    "        NumBus=len(pom4.name.unique())\n",
    "        NumGoodBus = pom4.name[pom4.categories == cat[0]].count()\n",
    "        ratio=NumGoodBus/NumBus\n",
    "        meanLQ = pom4.LQ[pom4.categories==cat[0]].mean()\n",
    "        lati =pom4.latitude.mean()\n",
    "        longi =pom4.longitude.mean()\n",
    "        scal = ratio*meanLQ\n",
    "        coordGood.lati.loc[coordGood.cluster == c] = lati\n",
    "        coordGood.longi.loc[coordGood.cluster == c] = longi\n",
    "        coordGood.ratioNbus.loc[coordGood.cluster == c] = ratio\n",
    "        coordGood.LQmean.loc[coordGood.cluster == c] = meanLQ\n",
    "        coordGood.scale.loc[coordGood.cluster == c] = scal\n",
    "if len(neutralList)>1:\n",
    "    for c in neutralList:\n",
    "        pom4= df[df.cluster == c]\n",
    "        NumBus=len(pom4.name.unique())\n",
    "        NumGoodBus = pom4.name[pom4.categories == cat[0]].count()\n",
    "        ratio=NumGoodBus/NumBus\n",
    "        meanLQ = pom4.LQ[pom4.categories==cat[0]].mean()\n",
    "        lati =pom4.latitude.mean()\n",
    "        longi =pom4.longitude.mean()\n",
    "        scal = ratio*meanLQ\n",
    "        coordNeutral.lati.loc[coordNeutral.cluster == c] = lati\n",
    "        coordNeutral.longi.loc[coordNeutral.cluster == c] = longi\n",
    "        coordNeutral.ratioNbus.loc[coordNeutral.cluster == c] = ratio\n",
    "        coordNeutral.LQmean.loc[coordNeutral.cluster == c] = meanLQ\n",
    "        coordNeutral.scale.loc[coordNeutral.cluster == c] = scal"
   ]
  },
  {
   "cell_type": "markdown",
   "metadata": {},
   "source": [
    "Now we can plot the result. Let us first check the sanity of our coordinates. "
   ]
  },
  {
   "cell_type": "code",
   "execution_count": 70,
   "metadata": {
    "collapsed": false
   },
   "outputs": [
    {
     "name": "stdout",
     "output_type": "stream",
     "text": [
      "[83, 51, 15, 130, 3, 79, 19, 5, 107, 43, 2, 1, 25, 70, 6, 74, 44, 69, 29, 38, 123, 31, 180, 27, 67, 26, 7, 42, 8, 88, 82, 239, 24, 238] []\n"
     ]
    }
   ],
   "source": [
    "print goodList, neutralList"
   ]
  },
  {
   "cell_type": "code",
   "execution_count": 71,
   "metadata": {
    "collapsed": true
   },
   "outputs": [],
   "source": [
    "def intersect(a,b):\n",
    "    return list(set(a) & set(b))"
   ]
  },
  {
   "cell_type": "code",
   "execution_count": 72,
   "metadata": {
    "collapsed": false
   },
   "outputs": [
    {
     "data": {
      "image/png": "[encoded data removed]",
      "text/plain": [
       "<matplotlib.figure.Figure at 0x10aaec250>"
      ]
     },
     "metadata": {},
     "output_type": "display_data"
    }
   ],
   "source": [
    "figsize(15, 3)\n",
    "if len(goodList)>0:\n",
    "    tornTupleG = coordGood.cluster.tolist()\n",
    "    latsG      = coordGood.lati.tolist()\n",
    "    lonsG      = coordGood.longi.tolist()\n",
    "    #scalesG    = coordGood.scale.tolist()\n",
    "\n",
    "    subplot(141)\n",
    "    title(\"Distribution of  good Latitudes\");\n",
    "    hist(latsG, bins=20);\n",
    "\n",
    "    subplot(142)\n",
    "    title(\"Distribution of good Longitudes\");\n",
    "    hist(lonsG, bins=20);\n",
    "\n",
    "    \n",
    "if len(neutralList)>0:\n",
    "    tornTupleN = coordNeutral.cluster.tolist()\n",
    "    latsN      = coordNeutral.lati.tolist()\n",
    "    lonsN      = coordNeutral.longi.tolist()\n",
    "    #scalesN    = coordNeutral.scale.tolist()\n",
    "\n",
    "    subplot(141)\n",
    "    title(\"Distribution of  neutral Latitudes\");\n",
    "    hist(latsN, bins=20);\n",
    "\n",
    "    subplot(142)\n",
    "    title(\"Distribution of neutral Longitudes\");\n",
    "    hist(lonsN, bins=20);"
   ]
  },
  {
   "cell_type": "markdown",
   "metadata": {},
   "source": [
    "Let us try now plot on a map using Basemaps. "
   ]
  },
  {
   "cell_type": "code",
   "execution_count": 74,
   "metadata": {
    "collapsed": false
   },
   "outputs": [
    {
     "data": {
      "image/png": "[encoded data removed]",
      "text/plain": [
       "<matplotlib.figure.Figure at 0x10c4c7f50>"
      ]
     },
     "metadata": {},
     "output_type": "display_data"
    }
   ],
   "source": [
    "meanlat=df.latitude.mean()\n",
    "meanlong=df.longitude.mean()\n",
    "\n",
    "from mpl_toolkits.basemap import Basemap\n",
    "import matplotlib.pyplot as plt\n",
    "\n",
    "\n",
    "# setup Lambert Conformal basemap.\n",
    "# set resolution=None to skip processing of boundary datasets.\n",
    "m = Basemap(width=100000,height=100000,projection='lcc',\n",
    "            resolution='h',lat_0=meanlat,lon_0=meanlong)\n",
    "m.etopo()\n",
    "m.drawcountries()\n",
    "m.drawcoastlines() #(linewidth=0.5)\n",
    "m.drawmapboundary()\n",
    "\n",
    "figsize(15, 15)\n",
    "if len(goodList)>0:\n",
    "    for i in range(len(tornTupleG)):\n",
    "        m.plot(lonsG[i], latsG[i], 'o', color=\"Blue\", latlon=True)\n",
    "    \n",
    "if len(neutralList)>0:\n",
    "    for i in range(len(tornTupleG)):\n",
    "        m.plot(lonsG[i], latsG[i], 'o', color=\"Blue\", latlon=True)\n",
    "        \n",
    "        \n",
    "plt.show()"
   ]
  },
  {
   "cell_type": "markdown",
   "metadata": {
    "collapsed": false
   },
   "source": [
    "Resolution is terrible, so let us try something else, like Folium. "
   ]
  },
  {
   "cell_type": "code",
   "execution_count": 75,
   "metadata": {
    "collapsed": false
   },
   "outputs": [],
   "source": [
    "from IPython.display import HTML\n",
    "import folium\n",
    "def inline_map(map):\n",
    "    \"\"\"\n",
    "    Embeds the HTML source of the map directly into the IPython notebook.\n",
    "    \n",
    "    This method will not work if the map depends on any files (json data). Also this uses\n",
    "    the HTML5 srcdoc attribute, which may not be supported in all browsers.\n",
    "    \"\"\"\n",
    "    map._build_map()\n",
    "    return HTML('<iframe srcdoc=\"{srcdoc}\" style=\"width: 100%; height: 310px; border: none\"></iframe>'.format(srcdoc=map.HTML.replace('\"', '&quot;')))\n"
   ]
  },
  {
   "cell_type": "code",
   "execution_count": 76,
   "metadata": {
    "collapsed": false
   },
   "outputs": [
    {
     "data": {
      "text/html": [
       "<iframe srcdoc=\"<!DOCTYPE html>\n",
       "<head>\n",
       "   <meta http-equiv=&quot;content-type&quot; content=&quot;text/html; charset=UTF-8&quot; />\n",
       "   <link rel=&quot;stylesheet&quot; href=&quot;//cdnjs.cloudflare.com/ajax/libs/leaflet/0.7.3/leaflet.css&quot; />\n",
       "   <script src=&quot;//cdnjs.cloudflare.com/ajax/libs/leaflet/0.7.3/leaflet.js&quot;></script>\n",
       "\n",
       "   <script src=&quot;//ajax.googleapis.com/ajax/libs/jquery/1.11.1/jquery.min.js&quot;></script>\n",
       "\n",
       "   <link rel=&quot;stylesheet&quot; href=&quot;//maxcdn.bootstrapcdn.com/bootstrap/3.2.0/css/bootstrap.min.css&quot;>\n",
       "   <link rel=&quot;stylesheet&quot; href=&quot;//maxcdn.bootstrapcdn.com/bootstrap/3.2.0/css/bootstrap-theme.min.css&quot;>\n",
       "   <script src=&quot;//maxcdn.bootstrapcdn.com/bootstrap/3.2.0/js/bootstrap.min.js&quot;></script>\n",
       "\n",
       "   <link href=&quot;//maxcdn.bootstrapcdn.com/font-awesome/4.1.0/css/font-awesome.min.css&quot; rel=&quot;stylesheet&quot;>\n",
       "\n",
       "   <link rel=&quot;stylesheet&quot; href=&quot;//rawgit.com/lvoogdt/Leaflet.awesome-markers/2.0/develop/dist/leaflet.awesome-markers.css&quot;>\n",
       "   <script src=&quot;//rawgithub.com/lvoogdt/Leaflet.awesome-markers/2.0/develop/dist/leaflet.awesome-markers.js&quot;></script>\n",
       "\n",
       "\n",
       "   <link rel=&quot;stylesheet&quot; href=&quot;//cdnjs.cloudflare.com/ajax/libs/leaflet.markercluster/0.4.0/MarkerCluster.Default.css&quot;>\n",
       "   <link rel=&quot;stylesheet&quot; href=&quot;//cdnjs.cloudflare.com/ajax/libs/leaflet.markercluster/0.4.0/MarkerCluster.css&quot;>\n",
       "   <script src=&quot;//cdnjs.cloudflare.com/ajax/libs/leaflet.markercluster/0.4.0/leaflet.markercluster-src.js&quot;></script>\n",
       "   <script src=&quot;//cdnjs.cloudflare.com/ajax/libs/leaflet.markercluster/0.4.0/leaflet.markercluster.js&quot;></script>\n",
       "\n",
       "   <link rel=&quot;stylesheet&quot; href=&quot;//birdage.github.io/Leaflet.awesome-markers/dist/leaflet.awesome.rotate.css&quot;>\n",
       "\n",
       "   \n",
       "   \n",
       "   \n",
       "   \n",
       "\n",
       "   <style>\n",
       "\n",
       "      html, body {\n",
       "        width: 100%;\n",
       "        height: 100%;\n",
       "        margin: 0;\n",
       "        padding: 0;\n",
       "      }\n",
       "\n",
       "      #map {\n",
       "        position:absolute;\n",
       "        top:0;\n",
       "        bottom:0;\n",
       "        right:0;\n",
       "        left:0;\n",
       "      }\n",
       "\n",
       "   </style>\n",
       "</head>\n",
       "\n",
       "<body>\n",
       "\n",
       "   <div class=&quot;folium-map&quot; id=&quot;folium_60cd54a1688a48038ee949e78ccef8ee&quot; style=&quot;width: 600px; height: 600px&quot;></div>\n",
       "\n",
       "   <script>\n",
       "\n",
       "      \n",
       "\n",
       "      var base_tile = L.tileLayer('http://{s}.tile.openstreetmap.org/{z}/{x}/{y}.png', {\n",
       "          maxZoom: 18,\n",
       "          minZoom: 1,\n",
       "          attribution: 'Map data (c) <a href=&quot;http://openstreetmap.org&quot;>OpenStreetMap</a> contributors'\n",
       "      });\n",
       "\n",
       "      var baseLayer = {\n",
       "        &quot;Base Layer&quot;: base_tile\n",
       "      };\n",
       "\n",
       "      /*\n",
       "      addition of the wms layers\n",
       "      */\n",
       "\n",
       "      \n",
       "\n",
       "      /*\n",
       "      addition of the tile layers\n",
       "      */\n",
       "      \n",
       "\n",
       "      /*\n",
       "      list of layers to be added\n",
       "      */\n",
       "      var layer_list = {\n",
       "      \n",
       "      };\n",
       "\n",
       "      /*\n",
       "      Bounding box.\n",
       "      */\n",
       "      var southWest = L.latLng(-90, -180),\n",
       "          northEast = L.latLng(90, 180),\n",
       "          bounds = L.latLngBounds(southWest, northEast);\n",
       "\n",
       "      /*\n",
       "      Creates the map and adds the selected layers\n",
       "      */\n",
       "      var map = L.map('folium_60cd54a1688a48038ee949e78ccef8ee', {\n",
       "                                       center:[40.4373791634, -79.9738892809],\n",
       "                                       zoom: 10,\n",
       "                                       maxBounds: bounds,\n",
       "                                       layers: [base_tile]\n",
       "                                     });\n",
       "\n",
       "      L.control.layers(baseLayer, layer_list).addTo(map);\n",
       "\n",
       "      //cluster group\n",
       "      var clusteredmarkers = L.markerClusterGroup();\n",
       "      //section for adding clustered markers\n",
       "      \n",
       "      //add the clustered markers to the group anyway\n",
       "      map.addLayer(clusteredmarkers);\n",
       "\n",
       "      \n",
       "      var marker_1_icon = L.AwesomeMarkers.icon({ icon: 'ok-sign',markerColor: 'green',prefix: 'glyphicon',extraClasses: 'fa-rotate-0'});\n",
       "      var marker_1 = L.marker([40.3871204583, \n",
       "\t\t\t\t\t\t\t-80.0927539125],\n",
       "\t\t\t\t\t\t\t{'icon':marker_1_icon}\n",
       "\t\t\t\t\t\t\t);\n",
       "      marker_1.bindPopup(&quot;83 Reccomended&quot;);\n",
       "      marker_1._popup.options.maxWidth = 300;\n",
       "      map.addLayer(marker_1)\n",
       "      \n",
       "      var marker_2_icon = L.AwesomeMarkers.icon({ icon: 'ok-sign',markerColor: 'green',prefix: 'glyphicon',extraClasses: 'fa-rotate-0'});\n",
       "      var marker_2 = L.marker([40.3928041626, \n",
       "\t\t\t\t\t\t\t-80.0633062194],\n",
       "\t\t\t\t\t\t\t{'icon':marker_2_icon}\n",
       "\t\t\t\t\t\t\t);\n",
       "      marker_2.bindPopup(&quot;51 Reccomended&quot;);\n",
       "      marker_2._popup.options.maxWidth = 300;\n",
       "      map.addLayer(marker_2)\n",
       "      \n",
       "      var marker_3_icon = L.AwesomeMarkers.icon({ icon: 'ok-sign',markerColor: 'green',prefix: 'glyphicon',extraClasses: 'fa-rotate-0'});\n",
       "      var marker_3 = L.marker([40.4090248556, \n",
       "\t\t\t\t\t\t\t-79.9124038284],\n",
       "\t\t\t\t\t\t\t{'icon':marker_3_icon}\n",
       "\t\t\t\t\t\t\t);\n",
       "      marker_3.bindPopup(&quot;15 Reccomended&quot;);\n",
       "      marker_3._popup.options.maxWidth = 300;\n",
       "      map.addLayer(marker_3)\n",
       "      \n",
       "      var marker_4_icon = L.AwesomeMarkers.icon({ icon: 'ok-sign',markerColor: 'green',prefix: 'glyphicon',extraClasses: 'fa-rotate-0'});\n",
       "      var marker_4 = L.marker([40.3736775, \n",
       "\t\t\t\t\t\t\t-79.8737336],\n",
       "\t\t\t\t\t\t\t{'icon':marker_4_icon}\n",
       "\t\t\t\t\t\t\t);\n",
       "      marker_4.bindPopup(&quot;130 Reccomended&quot;);\n",
       "      marker_4._popup.options.maxWidth = 300;\n",
       "      map.addLayer(marker_4)\n",
       "      \n",
       "      var marker_5_icon = L.AwesomeMarkers.icon({ icon: 'ok-sign',markerColor: 'green',prefix: 'glyphicon',extraClasses: 'fa-rotate-0'});\n",
       "      var marker_5 = L.marker([40.4282721212, \n",
       "\t\t\t\t\t\t\t-79.9772387967],\n",
       "\t\t\t\t\t\t\t{'icon':marker_5_icon}\n",
       "\t\t\t\t\t\t\t);\n",
       "      marker_5.bindPopup(&quot;3 Reccomended&quot;);\n",
       "      marker_5._popup.options.maxWidth = 300;\n",
       "      map.addLayer(marker_5)\n",
       "      \n",
       "      var marker_6_icon = L.AwesomeMarkers.icon({ icon: 'ok-sign',markerColor: 'green',prefix: 'glyphicon',extraClasses: 'fa-rotate-0'});\n",
       "      var marker_6 = L.marker([40.4962299154, \n",
       "\t\t\t\t\t\t\t-80.0571488115],\n",
       "\t\t\t\t\t\t\t{'icon':marker_6_icon}\n",
       "\t\t\t\t\t\t\t);\n",
       "      marker_6.bindPopup(&quot;79 Reccomended&quot;);\n",
       "      marker_6._popup.options.maxWidth = 300;\n",
       "      map.addLayer(marker_6)\n",
       "      \n",
       "      var marker_7_icon = L.AwesomeMarkers.icon({ icon: 'ok-sign',markerColor: 'green',prefix: 'glyphicon',extraClasses: 'fa-rotate-0'});\n",
       "      var marker_7 = L.marker([40.4647364939, \n",
       "\t\t\t\t\t\t\t-79.9387083646],\n",
       "\t\t\t\t\t\t\t{'icon':marker_7_icon}\n",
       "\t\t\t\t\t\t\t);\n",
       "      marker_7.bindPopup(&quot;19 Reccomended&quot;);\n",
       "      marker_7._popup.options.maxWidth = 300;\n",
       "      map.addLayer(marker_7)\n",
       "      \n",
       "      var marker_8_icon = L.AwesomeMarkers.icon({ icon: 'ok-sign',markerColor: 'green',prefix: 'glyphicon',extraClasses: 'fa-rotate-0'});\n",
       "      var marker_8 = L.marker([40.4522074235, \n",
       "\t\t\t\t\t\t\t-79.9424112214],\n",
       "\t\t\t\t\t\t\t{'icon':marker_8_icon}\n",
       "\t\t\t\t\t\t\t);\n",
       "      marker_8.bindPopup(&quot;5 Reccomended&quot;);\n",
       "      marker_8._popup.options.maxWidth = 300;\n",
       "      map.addLayer(marker_8)\n",
       "      \n",
       "      var marker_9_icon = L.AwesomeMarkers.icon({ icon: 'ok-sign',markerColor: 'green',prefix: 'glyphicon',extraClasses: 'fa-rotate-0'});\n",
       "      var marker_9 = L.marker([40.4757350645, \n",
       "\t\t\t\t\t\t\t-79.9200319032],\n",
       "\t\t\t\t\t\t\t{'icon':marker_9_icon}\n",
       "\t\t\t\t\t\t\t);\n",
       "      marker_9.bindPopup(&quot;107 Reccomended&quot;);\n",
       "      marker_9._popup.options.maxWidth = 300;\n",
       "      map.addLayer(marker_9)\n",
       "      \n",
       "      var marker_10_icon = L.AwesomeMarkers.icon({ icon: 'ok-sign',markerColor: 'green',prefix: 'glyphicon',extraClasses: 'fa-rotate-0'});\n",
       "      var marker_10 = L.marker([40.4479574984, \n",
       "\t\t\t\t\t\t\t-79.8980835956],\n",
       "\t\t\t\t\t\t\t{'icon':marker_10_icon}\n",
       "\t\t\t\t\t\t\t);\n",
       "      marker_10.bindPopup(&quot;43 Reccomended&quot;);\n",
       "      marker_10._popup.options.maxWidth = 300;\n",
       "      map.addLayer(marker_10)\n",
       "      \n",
       "      var marker_11_icon = L.AwesomeMarkers.icon({ icon: 'ok-sign',markerColor: 'green',prefix: 'glyphicon',extraClasses: 'fa-rotate-0'});\n",
       "      var marker_11 = L.marker([40.4504276506, \n",
       "\t\t\t\t\t\t\t-79.9894613301],\n",
       "\t\t\t\t\t\t\t{'icon':marker_11_icon}\n",
       "\t\t\t\t\t\t\t);\n",
       "      marker_11.bindPopup(&quot;2 Reccomended&quot;);\n",
       "      marker_11._popup.options.maxWidth = 300;\n",
       "      map.addLayer(marker_11)\n",
       "      \n",
       "      var marker_12_icon = L.AwesomeMarkers.icon({ icon: 'ok-sign',markerColor: 'green',prefix: 'glyphicon',extraClasses: 'fa-rotate-0'});\n",
       "      var marker_12 = L.marker([40.3679966586, \n",
       "\t\t\t\t\t\t\t-79.9823008595],\n",
       "\t\t\t\t\t\t\t{'icon':marker_12_icon}\n",
       "\t\t\t\t\t\t\t);\n",
       "      marker_12.bindPopup(&quot;1 Reccomended&quot;);\n",
       "      marker_12._popup.options.maxWidth = 300;\n",
       "      map.addLayer(marker_12)\n",
       "      \n",
       "      var marker_13_icon = L.AwesomeMarkers.icon({ icon: 'ok-sign',markerColor: 'green',prefix: 'glyphicon',extraClasses: 'fa-rotate-0'});\n",
       "      var marker_13 = L.marker([40.4009006466, \n",
       "\t\t\t\t\t\t\t-80.0428120001],\n",
       "\t\t\t\t\t\t\t{'icon':marker_13_icon}\n",
       "\t\t\t\t\t\t\t);\n",
       "      marker_13.bindPopup(&quot;25 Reccomended&quot;);\n",
       "      marker_13._popup.options.maxWidth = 300;\n",
       "      map.addLayer(marker_13)\n",
       "      \n",
       "      var marker_14_icon = L.AwesomeMarkers.icon({ icon: 'ok-sign',markerColor: 'green',prefix: 'glyphicon',extraClasses: 'fa-rotate-0'});\n",
       "      var marker_14 = L.marker([40.4103551429, \n",
       "\t\t\t\t\t\t\t-80.0248486429],\n",
       "\t\t\t\t\t\t\t{'icon':marker_14_icon}\n",
       "\t\t\t\t\t\t\t);\n",
       "      marker_14.bindPopup(&quot;70 Reccomended&quot;);\n",
       "      marker_14._popup.options.maxWidth = 300;\n",
       "      map.addLayer(marker_14)\n",
       "      \n",
       "      var marker_15_icon = L.AwesomeMarkers.icon({ icon: 'ok-sign',markerColor: 'green',prefix: 'glyphicon',extraClasses: 'fa-rotate-0'});\n",
       "      var marker_15 = L.marker([40.4261719543, \n",
       "\t\t\t\t\t\t\t-79.8883285378],\n",
       "\t\t\t\t\t\t\t{'icon':marker_15_icon}\n",
       "\t\t\t\t\t\t\t);\n",
       "      marker_15.bindPopup(&quot;6 Reccomended&quot;);\n",
       "      marker_15._popup.options.maxWidth = 300;\n",
       "      map.addLayer(marker_15)\n",
       "      \n",
       "      var marker_16_icon = L.AwesomeMarkers.icon({ icon: 'ok-sign',markerColor: 'green',prefix: 'glyphicon',extraClasses: 'fa-rotate-0'});\n",
       "      var marker_16 = L.marker([40.4224571, \n",
       "\t\t\t\t\t\t\t-80.0355884],\n",
       "\t\t\t\t\t\t\t{'icon':marker_16_icon}\n",
       "\t\t\t\t\t\t\t);\n",
       "      marker_16.bindPopup(&quot;74 Reccomended&quot;);\n",
       "      marker_16._popup.options.maxWidth = 300;\n",
       "      map.addLayer(marker_16)\n",
       "      \n",
       "      var marker_17_icon = L.AwesomeMarkers.icon({ icon: 'ok-sign',markerColor: 'green',prefix: 'glyphicon',extraClasses: 'fa-rotate-0'});\n",
       "      var marker_17 = L.marker([40.3839272077, \n",
       "\t\t\t\t\t\t\t-80.0155321],\n",
       "\t\t\t\t\t\t\t{'icon':marker_17_icon}\n",
       "\t\t\t\t\t\t\t);\n",
       "      marker_17.bindPopup(&quot;44 Reccomended&quot;);\n",
       "      marker_17._popup.options.maxWidth = 300;\n",
       "      map.addLayer(marker_17)\n",
       "      \n",
       "      var marker_18_icon = L.AwesomeMarkers.icon({ icon: 'ok-sign',markerColor: 'green',prefix: 'glyphicon',extraClasses: 'fa-rotate-0'});\n",
       "      var marker_18 = L.marker([40.394088629, \n",
       "\t\t\t\t\t\t\t-80.0207801894],\n",
       "\t\t\t\t\t\t\t{'icon':marker_18_icon}\n",
       "\t\t\t\t\t\t\t);\n",
       "      marker_18.bindPopup(&quot;69 Reccomended&quot;);\n",
       "      marker_18._popup.options.maxWidth = 300;\n",
       "      map.addLayer(marker_18)\n",
       "      \n",
       "      var marker_19_icon = L.AwesomeMarkers.icon({ icon: 'ok-sign',markerColor: 'green',prefix: 'glyphicon',extraClasses: 'fa-rotate-0'});\n",
       "      var marker_19 = L.marker([40.3810571264, \n",
       "\t\t\t\t\t\t\t-80.0444537021],\n",
       "\t\t\t\t\t\t\t{'icon':marker_19_icon}\n",
       "\t\t\t\t\t\t\t);\n",
       "      marker_19.bindPopup(&quot;29 Reccomended&quot;);\n",
       "      marker_19._popup.options.maxWidth = 300;\n",
       "      map.addLayer(marker_19)\n",
       "      \n",
       "      var marker_20_icon = L.AwesomeMarkers.icon({ icon: 'ok-sign',markerColor: 'green',prefix: 'glyphicon',extraClasses: 'fa-rotate-0'});\n",
       "      var marker_20 = L.marker([40.3547422069, \n",
       "\t\t\t\t\t\t\t-80.0508082735],\n",
       "\t\t\t\t\t\t\t{'icon':marker_20_icon}\n",
       "\t\t\t\t\t\t\t);\n",
       "      marker_20.bindPopup(&quot;38 Reccomended&quot;);\n",
       "      marker_20._popup.options.maxWidth = 300;\n",
       "      map.addLayer(marker_20)\n",
       "      \n",
       "      var marker_21_icon = L.AwesomeMarkers.icon({ icon: 'ok-sign',markerColor: 'green',prefix: 'glyphicon',extraClasses: 'fa-rotate-0'});\n",
       "      var marker_21 = L.marker([40.3688393401, \n",
       "\t\t\t\t\t\t\t-80.0347883309],\n",
       "\t\t\t\t\t\t\t{'icon':marker_21_icon}\n",
       "\t\t\t\t\t\t\t);\n",
       "      marker_21.bindPopup(&quot;123 Reccomended&quot;);\n",
       "      marker_21._popup.options.maxWidth = 300;\n",
       "      map.addLayer(marker_21)\n",
       "      \n",
       "      var marker_22_icon = L.AwesomeMarkers.icon({ icon: 'ok-sign',markerColor: 'green',prefix: 'glyphicon',extraClasses: 'fa-rotate-0'});\n",
       "      var marker_22 = L.marker([40.3625837779, \n",
       "\t\t\t\t\t\t\t-80.0277515401],\n",
       "\t\t\t\t\t\t\t{'icon':marker_22_icon}\n",
       "\t\t\t\t\t\t\t);\n",
       "      marker_22.bindPopup(&quot;31 Reccomended&quot;);\n",
       "      marker_22._popup.options.maxWidth = 300;\n",
       "      map.addLayer(marker_22)\n",
       "      \n",
       "      var marker_23_icon = L.AwesomeMarkers.icon({ icon: 'ok-sign',markerColor: 'green',prefix: 'glyphicon',extraClasses: 'fa-rotate-0'});\n",
       "      var marker_23 = L.marker([40.364216, \n",
       "\t\t\t\t\t\t\t-80.02247],\n",
       "\t\t\t\t\t\t\t{'icon':marker_23_icon}\n",
       "\t\t\t\t\t\t\t);\n",
       "      marker_23.bindPopup(&quot;180 Reccomended&quot;);\n",
       "      marker_23._popup.options.maxWidth = 300;\n",
       "      map.addLayer(marker_23)\n",
       "      \n",
       "      var marker_24_icon = L.AwesomeMarkers.icon({ icon: 'ok-sign',markerColor: 'green',prefix: 'glyphicon',extraClasses: 'fa-rotate-0'});\n",
       "      var marker_24 = L.marker([40.4880242159, \n",
       "\t\t\t\t\t\t\t-79.8874119874],\n",
       "\t\t\t\t\t\t\t{'icon':marker_24_icon}\n",
       "\t\t\t\t\t\t\t);\n",
       "      marker_24.bindPopup(&quot;27 Reccomended&quot;);\n",
       "      marker_24._popup.options.maxWidth = 300;\n",
       "      map.addLayer(marker_24)\n",
       "      \n",
       "      var marker_25_icon = L.AwesomeMarkers.icon({ icon: 'ok-sign',markerColor: 'green',prefix: 'glyphicon',extraClasses: 'fa-rotate-0'});\n",
       "      var marker_25 = L.marker([40.4220687576, \n",
       "\t\t\t\t\t\t\t-79.9284184758],\n",
       "\t\t\t\t\t\t\t{'icon':marker_25_icon}\n",
       "\t\t\t\t\t\t\t);\n",
       "      marker_25.bindPopup(&quot;67 Reccomended&quot;);\n",
       "      marker_25._popup.options.maxWidth = 300;\n",
       "      map.addLayer(marker_25)\n",
       "      \n",
       "      var marker_26_icon = L.AwesomeMarkers.icon({ icon: 'ok-sign',markerColor: 'green',prefix: 'glyphicon',extraClasses: 'fa-rotate-0'});\n",
       "      var marker_26 = L.marker([40.4261651289, \n",
       "\t\t\t\t\t\t\t-79.9408232414],\n",
       "\t\t\t\t\t\t\t{'icon':marker_26_icon}\n",
       "\t\t\t\t\t\t\t);\n",
       "      marker_26.bindPopup(&quot;26 Reccomended&quot;);\n",
       "      marker_26._popup.options.maxWidth = 300;\n",
       "      map.addLayer(marker_26)\n",
       "      \n",
       "      var marker_27_icon = L.AwesomeMarkers.icon({ icon: 'ok-sign',markerColor: 'green',prefix: 'glyphicon',extraClasses: 'fa-rotate-0'});\n",
       "      var marker_27 = L.marker([40.4298255956, \n",
       "\t\t\t\t\t\t\t-80.0072244621],\n",
       "\t\t\t\t\t\t\t{'icon':marker_27_icon}\n",
       "\t\t\t\t\t\t\t);\n",
       "      marker_27.bindPopup(&quot;7 Reccomended&quot;);\n",
       "      marker_27._popup.options.maxWidth = 300;\n",
       "      map.addLayer(marker_27)\n",
       "      \n",
       "      var marker_28_icon = L.AwesomeMarkers.icon({ icon: 'ok-sign',markerColor: 'green',prefix: 'glyphicon',extraClasses: 'fa-rotate-0'});\n",
       "      var marker_28 = L.marker([40.4895055089, \n",
       "\t\t\t\t\t\t\t-79.9019234436],\n",
       "\t\t\t\t\t\t\t{'icon':marker_28_icon}\n",
       "\t\t\t\t\t\t\t);\n",
       "      marker_28.bindPopup(&quot;42 Reccomended&quot;);\n",
       "      marker_28._popup.options.maxWidth = 300;\n",
       "      map.addLayer(marker_28)\n",
       "      \n",
       "      var marker_29_icon = L.AwesomeMarkers.icon({ icon: 'ok-sign',markerColor: 'green',prefix: 'glyphicon',extraClasses: 'fa-rotate-0'});\n",
       "      var marker_29 = L.marker([40.4352985805, \n",
       "\t\t\t\t\t\t\t-79.9222729587],\n",
       "\t\t\t\t\t\t\t{'icon':marker_29_icon}\n",
       "\t\t\t\t\t\t\t);\n",
       "      marker_29.bindPopup(&quot;8 Reccomended&quot;);\n",
       "      marker_29._popup.options.maxWidth = 300;\n",
       "      map.addLayer(marker_29)\n",
       "      \n",
       "      var marker_30_icon = L.AwesomeMarkers.icon({ icon: 'ok-sign',markerColor: 'green',prefix: 'glyphicon',extraClasses: 'fa-rotate-0'});\n",
       "      var marker_30 = L.marker([40.4416584625, \n",
       "\t\t\t\t\t\t\t-79.9205944625],\n",
       "\t\t\t\t\t\t\t{'icon':marker_30_icon}\n",
       "\t\t\t\t\t\t\t);\n",
       "      marker_30.bindPopup(&quot;88 Reccomended&quot;);\n",
       "      marker_30._popup.options.maxWidth = 300;\n",
       "      map.addLayer(marker_30)\n",
       "      \n",
       "      var marker_31_icon = L.AwesomeMarkers.icon({ icon: 'ok-sign',markerColor: 'green',prefix: 'glyphicon',extraClasses: 'fa-rotate-0'});\n",
       "      var marker_31 = L.marker([40.3843838334, \n",
       "\t\t\t\t\t\t\t-79.9779480031],\n",
       "\t\t\t\t\t\t\t{'icon':marker_31_icon}\n",
       "\t\t\t\t\t\t\t);\n",
       "      marker_31.bindPopup(&quot;82 Reccomended&quot;);\n",
       "      marker_31._popup.options.maxWidth = 300;\n",
       "      map.addLayer(marker_31)\n",
       "      \n",
       "      var marker_32_icon = L.AwesomeMarkers.icon({ icon: 'ok-sign',markerColor: 'green',prefix: 'glyphicon',extraClasses: 'fa-rotate-0'});\n",
       "      var marker_32 = L.marker([40.489263, \n",
       "\t\t\t\t\t\t\t-80.043466],\n",
       "\t\t\t\t\t\t\t{'icon':marker_32_icon}\n",
       "\t\t\t\t\t\t\t);\n",
       "      marker_32.bindPopup(&quot;239 Reccomended&quot;);\n",
       "      marker_32._popup.options.maxWidth = 300;\n",
       "      map.addLayer(marker_32)\n",
       "      \n",
       "      var marker_33_icon = L.AwesomeMarkers.icon({ icon: 'ok-sign',markerColor: 'green',prefix: 'glyphicon',extraClasses: 'fa-rotate-0'});\n",
       "      var marker_33 = L.marker([40.4051093, \n",
       "\t\t\t\t\t\t\t-79.99071],\n",
       "\t\t\t\t\t\t\t{'icon':marker_33_icon}\n",
       "\t\t\t\t\t\t\t);\n",
       "      marker_33.bindPopup(&quot;24 Reccomended&quot;);\n",
       "      marker_33._popup.options.maxWidth = 300;\n",
       "      map.addLayer(marker_33)\n",
       "      \n",
       "      var marker_34_icon = L.AwesomeMarkers.icon({ icon: 'ok-sign',markerColor: 'green',prefix: 'glyphicon',extraClasses: 'fa-rotate-0'});\n",
       "      var marker_34 = L.marker([40.3685013505, \n",
       "\t\t\t\t\t\t\t-80.0280508999],\n",
       "\t\t\t\t\t\t\t{'icon':marker_34_icon}\n",
       "\t\t\t\t\t\t\t);\n",
       "      marker_34.bindPopup(&quot;238 Reccomended&quot;);\n",
       "      marker_34._popup.options.maxWidth = 300;\n",
       "      map.addLayer(marker_34)\n",
       "      \n",
       "\n",
       "      \n",
       "\n",
       "      \n",
       "\n",
       "      \n",
       "\n",
       "      \n",
       "\n",
       "      \n",
       "\n",
       "   </script>\n",
       "\n",
       "</body>\" style=\"width: 100%; height: 310px; border: none\"></iframe>"
      ],
      "text/plain": [
       "<IPython.core.display.HTML object>"
      ]
     },
     "execution_count": 76,
     "metadata": {},
     "output_type": "execute_result"
    }
   ],
   "source": [
    "meanlat=df.latitude.mean()\n",
    "meanlong=df.longitude.mean()\n",
    "\n",
    "map = folium.Map(width=600,height=600,location=[meanlat,meanlong], zoom_start=10)\n",
    "\n",
    "if len(goodList)>0:\n",
    "    for i in range(len(tornTupleG)):\n",
    "        map.simple_marker([latsG[i], lonsG[i]], popup=str(tornTupleG[i])+' Reccomended',marker_color='green',marker_icon='ok-sign')\n",
    "\n",
    "if len(neutralList)>0:\n",
    "    for i in range(len(tornTupleG)):\n",
    "        map.simple_marker([latsN[i], lonsN[i]], popup=str(tornTupleN[i])+' Neutral',marker_color='blue',marker_icon='ok-sign')    \n",
    "        \n",
    "inline_map(map)"
   ]
  },
  {
   "cell_type": "code",
   "execution_count": 80,
   "metadata": {
    "collapsed": false
   },
   "outputs": [
    {
     "name": "stdout",
     "output_type": "stream",
     "text": [
      "2 Leisure Centers\n",
      "['Skin Care' 'Hair Salons' 'Beauty & Spas' 'Pubs' 'Bars' 'Nightlife'\n",
      " 'Shopping' 'Photography Stores & Services' 'German' 'Restaurants'\n",
      " 'Chinese' 'Delis' 'Hotels & Travel' 'Bed & Breakfast'\n",
      " 'Event Planning & Services' 'Hotels' 'American (Traditional)' 'Pizza'\n",
      " 'Beer' ' Wine & Spirits' 'Food' nan 'Italian' 'Chicken Wings' 'Grocery'\n",
      " 'Barbers' 'Local Services' 'Dry Cleaning & Laundry' 'American (New)'\n",
      " 'Active Life' 'Leisure Centers' 'Hot Dogs' 'Nail Salons' 'Sandwiches'\n",
      " 'Kids Activities' 'Barbeque' 'Ice Cream & Frozen Yogurt'\n",
      " 'Arts & Entertainment' 'Professional Sports Teams' 'Print Media'\n",
      " 'Mass Media' 'Auto Repair' 'Automotive' 'Coffee & Tea' 'Seafood'\n",
      " 'Caterers' 'Tapas Bars' 'Cocktail Bars' 'Lounges' 'Ethnic Food'\n",
      " 'Specialty Food' 'Churches' 'Religious Organizations' 'Car Rental'\n",
      " 'Wholesale Stores' 'Cosmetics & Beauty Supply' 'Burgers' 'Fast Food'\n",
      " 'Mexican' \"Men's Clothing\" 'Fashion' 'Greek' 'Mediterranean'\n",
      " 'Hair Removal' 'Hair Stylists' 'Art Galleries' 'Steakhouses' 'Doctors'\n",
      " 'Optometrists' 'Ophthalmologists' 'Health & Medical' 'Eyewear & Opticians'\n",
      " 'Bakeries' 'Real Estate Services' 'Home Services' 'Real Estate'\n",
      " \"Women's Clothing\" 'Office Equipment' 'Performing Arts'\n",
      " 'Venues & Event Spaces' 'Airport Shuttles' 'Limos' 'Transportation'\n",
      " 'Community Service/Non-Profit' 'Sewing & Alterations' 'Flowers & Gifts'\n",
      " 'Florists' 'Luggage' 'Sushi Bars' 'Candy Stores' 'Korean' 'Midwives'\n",
      " 'Chiropractors' 'Home & Garden' 'Furniture Stores' 'Cafes' 'Shoe Repair'\n",
      " 'Gay Bars' 'Chocolatiers & Shops' 'Bagels' 'Massage' 'Opera & Ballet'\n",
      " 'Arts & Crafts' 'Souvenir Shops' 'Cards & Stationery'\n",
      " 'Landmarks & Historical Buildings' 'Public Services & Government'\n",
      " 'Train Stations' 'Furniture Reupholstery' 'Fabric Stores' 'Cheese Shops'\n",
      " 'Meat Shops' 'Cinema' 'Veterinarians' 'Pets' 'Salad' 'Pet Services'\n",
      " 'Pet Stores' 'Pet Boarding/Pet Sitting' 'Karaoke' 'Irish' 'Vietnamese'\n",
      " 'Department Stores' 'Thai' 'Colleges & Universities' 'Education' 'Tours'\n",
      " 'Breakfast & Brunch' 'Diners' 'Convenience Stores' 'Dive Bars'\n",
      " 'Outlet Stores' 'Music Venues' 'Banks & Credit Unions'\n",
      " 'Financial Services' 'Drugstores' 'Tires' 'Desserts' 'Breweries'\n",
      " 'Electricians' 'Movers' 'Music & DVDs' 'Books' ' Mags' ' Music & Video'\n",
      " 'Comic Books' 'Bookstores' 'Hospitals' 'Social Clubs' 'Sports Clubs'\n",
      " 'Day Spas' 'Property Management' 'Apartments' 'Shoe Stores' 'Gift Shops'\n",
      " 'Funeral Services & Cemeteries' 'Stadiums & Arenas' 'Polish' 'Gluten-Free'\n",
      " 'Dance Clubs' 'Museums' 'Oil Change Stations' 'Sports Bars'\n",
      " 'Animal Shelters' 'Pet Adoption' 'Dentists' 'Zoos' 'Jewelry'\n",
      " 'Public Transportation' 'Antiques' 'Caribbean' 'Seafood Markets'\n",
      " 'Tobacco Shops' 'Pakistani' 'Indian' 'Home Decor' 'Juice Bars & Smoothies'\n",
      " 'Vegetarian' 'Adult Entertainment' 'Cuban' 'Latin American'\n",
      " 'Middle Eastern' 'Soul Food' 'Newspapers & Magazines' 'Bowling' 'Peruvian'\n",
      " 'Asian Fusion' 'Filipino' 'Art Supplies' 'Car Share Services' 'Buffets'\n",
      " 'Parks' 'Toy Stores' 'Junk Removal & Hauling' 'Television Stations'\n",
      " 'Vegan' 'Jazz & Blues' 'Appliances' 'Health Markets' 'Yoga'\n",
      " 'Fitness & Instruction' 'Turkish' 'Tex-Mex' 'Donuts' 'Tattoo' 'Gyms'\n",
      " 'Trainers' 'Accessories' 'Rafting/Kayaking' 'Bike Rentals'\n",
      " 'Interior Design' 'Shipping Centers' 'Printing Services' 'Signmaking'\n",
      " 'Professional Services' 'Costumes' 'Wigs' 'Parking'\n",
      " 'Party & Event Planning' 'Skating Rinks' 'Taxis' 'Sporting Goods'\n",
      " 'Sports Wear' 'Local Flavor' 'Southern' 'Belgian' 'Gas & Service Stations'\n",
      " 'Wine Bars' 'French' 'Street Vendors' 'Food Delivery Services'\n",
      " 'Vinyl Records' 'Farmers Market' 'Food Trucks' 'Car Wash' 'Auto Detailing'\n",
      " 'Shaved Ice' 'Wineries' 'Accountants' 'Payroll Services' 'Tax Services'\n",
      " 'Cajun/Creole' 'Kosher' 'Gastropubs' 'Festivals' 'Thrift Stores' 'Bikes'\n",
      " 'Departments of Motor Vehicles' 'Nurseries & Gardening'\n",
      " 'Tapas/Small Plates' 'Soup' 'Post Offices' 'Special Education'\n",
      " 'Art Classes' 'Pilates' 'Butcher' 'Champagne Bars' 'Truck Rental'\n",
      " 'Self Storage' 'Dog Parks' 'Television Service Providers'\n",
      " 'Internet Service Providers' 'Acupuncture' 'Art Schools'\n",
      " 'Specialty Schools' 'Police Departments' 'Food Court' 'Eyelash Service'\n",
      " 'Comedy Clubs' 'Makeup Artists' 'Videos & Video Game Rental'\n",
      " 'General Dentistry' 'Cosmetic Dentists' 'Fruits & Veggies' 'Tea Rooms'\n",
      " 'Arcades' 'African' 'Dog Walkers' 'Bridal' 'Halal' 'Do-It-Yourself Food'\n",
      " 'Photographers' 'Videographers' 'Dim Sum' 'Yelp Events' 'Pet Groomers'\n",
      " 'Comfort Food' 'Japanese' 'Uzbek' \"Men's Hair Salons\"]\n"
     ]
    }
   ],
   "source": [
    "i=2\n",
    "hpom=df[df.cluster == i]\n",
    "large = hpom.LQ.max()\n",
    "topBus = hpom.name.ix[hpom.LQ == large].values[0]\n",
    "topBusCat = hpom.categories.ix[(hpom.name == topBus) & (hpom.LQ == large)].values[0]\n",
    "bus=hpom.categories.unique()\n",
    "print i, topBusCat\n",
    "print bus"
   ]
  },
  {
   "cell_type": "code",
   "execution_count": null,
   "metadata": {
    "collapsed": true
   },
   "outputs": [],
   "source": []
  }
 ],
 "metadata": {
  "kernelspec": {
   "display_name": "Python 2",
   "language": "python",
   "name": "python2"
  },
  "language_info": {
   "codemirror_mode": {
    "name": "ipython",
    "version": 2
   },
   "file_extension": ".py",
   "mimetype": "text/x-python",
   "name": "python",
   "nbconvert_exporter": "python",
   "pygments_lexer": "ipython2",
   "version": "2.7.9"
  }
 },
 "nbformat": 4,
 "nbformat_minor": 0
}
